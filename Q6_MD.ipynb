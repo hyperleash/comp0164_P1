{
 "cells": [
  {
   "cell_type": "markdown",
   "metadata": {},
   "source": [
    "# QUESTION 6 (8 marks)"
   ]
  },
  {
   "cell_type": "markdown",
   "metadata": {},
   "source": [
    "The conglomerate you are working for, Accretion, decided to digitalize the financial analysis in order to\n",
    "optimize their operations. Since you have expertise in a multitude of financial instruments, you have\n",
    "been tasked to perform the innovation.\n",
    "\n",
    "Firstly, you are asked to design a tool for computing the zero spot rates using the bootstrap method,\n",
    "and then verify its validity by applying it to Exhibit 6 below.\n",
    "\n",
    "#### Exhibit 6: Spot Rate Table\n",
    "\n",
    "\n",
    "| **Principal** | **Maturity (Years)** | **Coupon (per Year)**| **Price** | **Coupon Frequency** | **Zero Rate (Continuous)** |\n",
    "| --- | --- | --- | --- | --- | --- |\n",
    "| 100 | 0.5 | 0 | 99.8 | 0.5 (SA) | 0.4% |\n",
    "|100| 1 | 4 |101.2 |1 (A) | 2.729%|\n",
    "|100| 1.5 |5| 102.4| 0.5 (SA)| 3.353%|\n",
    "\n",
    "<div class=\"alert alert-warning\">\n",
    "\n",
    "a. Design a function that take in the required parameters for the bootstrap method in form of a Pandas\n",
    "DataFrame and returns the same DataFrame but with a new column called \"Zero Rates\". Then, check\n",
    "that your function gives the correct spot rates in the table above. [4 mark]\n",
    "\n",
    "</div>\n",
    "\n",
    "It is often that in real world investors encounter friction costs such as fees, commissions and other types\n",
    "of expenses. Currently, NPV is used to measure the value of an investment opportunity:\n",
    "\n",
    "$$NPV = C_{0} + PV$$\n",
    "\n",
    "Your task is to design a tool for evaluating net value of a bond, which takes into consideration accrued\n",
    "interest, commission fees on entrance and exit (assume there is commission for settling the return of\n",
    "the principal), and administrative fees, which are monthly fees associated with the exchange that keeps\n",
    "track of asset ownership.\n",
    "\n",
    "<div class=\"alert alert-warning\">\n",
    "\n",
    "b. Define a python function for calculating the net value of a bond subject to accrued interest, entry and\n",
    "exit fees and administrative fees (assume the administrative fees are paid out at the same frequency as\n",
    "the coupons). The accrued interest MUST be computed from the coupon value. [3 marks]\n",
    "\n",
    "c. Using the values from Exhibit 7 compute the net value of the investment. Is this a good investment\n",
    "considering all the expenses? [1 mark]\n",
    "\n",
    "</div>\n",
    "\n",
    "#### Exhibit 7: Information for an Investment\n",
    "\n",
    "|**Parameter**| **Value**|\n",
    "|---|---|\n",
    "|Principal |$100|\n",
    "|Coupon |$4 (Yearly)|\n",
    "|Price |$101.5|\n",
    "|Interest Rate |2%|\n",
    "|Maturity| 3 years|\n",
    "|Administrative Fee| $1 (Yearly)|\n",
    "|Entry Fee| $5|\n",
    "|Exit Fee |$5|\n",
    "|Days from Last Coupon| 200|"
   ]
  },
  {
   "cell_type": "markdown",
   "metadata": {},
   "source": []
  }
 ],
 "metadata": {
  "language_info": {
   "name": "python"
  }
 },
 "nbformat": 4,
 "nbformat_minor": 2
}
