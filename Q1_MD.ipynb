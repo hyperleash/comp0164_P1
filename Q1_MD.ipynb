{
 "cells": [
  {
   "cell_type": "markdown",
   "metadata": {},
   "source": [
    "# QUESTION 1 (16 marks)"
   ]
  },
  {
   "cell_type": "markdown",
   "metadata": {},
   "source": [
    "You are asked to evaluate businesses and investment ideas on behalf of Accretion as part of their\n",
    "portfolio reshuffling.\n",
    "\n",
    "Boogle is one of the conglomerate's largest holdings. During the latest earnings report, Boogle's CFO\n",
    "announced an investment of $150 million for a new business expansion project. The project is planned\n",
    "to be financed with an $100 million public offering of a 10-year debt and the remainder with an equity\n",
    "offering. You have collected the information necessary to evaluate this project in Exhibits 1 and 2.\n",
    "\n",
    "#### Exhibit 1: Relevant Information for Analysis\n",
    "|**-**| **-** |\n",
    "| --- | --- |\n",
    "|Equity risk premium |4.93%|\n",
    "|Risk-free rate of interest |4.3%|\n",
    "|Market value of Boogle's debt| $1.0 billion|\n",
    "|Market value of Boogle's equity| $2.6 billion|\n",
    "|Boogle's equity beta| 1.3|\n",
    "|Boogle's before-tax cost of debt| 9.4%|\n",
    "|Corporate tax rate| 37.5%|\n",
    "\n",
    "#### Exhibit 2: Estimated Project Financials\n",
    "\n",
    "|**-**| **Year 1** |**Year 2** |**Year 3**|\n",
    "| --- | --- | --- | --- |\n",
    "|Revenue |96.7 |111.2| 115.44|\n",
    "|Operating Costs |32 |36| 38|\n",
    "|Depreciation |16| 16| 16|\n",
    "<div class=\"alert alert-warning\">\n",
    "\n",
    "a. Calculate the weighted average cost of capital of Boogle prior to its new project investment. [3\n",
    "marks]\n",
    "\n",
    "b. Find Boogle's asset beta prior to the new project. [2 marks]\n",
    "\n",
    "c. Assuming the new project has the same asset beta as the Boogle company in b, find the the project\n",
    "equity beta. [2 marks]\n",
    "\n",
    "d. The formula for project after-tax free cash flow at time t is:\n",
    "$$FCF= (Revenue−Operating Costs−Depreciation)×(1−Tax Rate)+Depreciation$$\n",
    "\n",
    "Define a Python function to calculate the project FCFs and demonstrate that the after-tax free cash flow\n",
    "generated for the next three years are $46.4 million, $53 million, and $54.4 million respectively. [2\n",
    "marks]\n",
    "\n",
    "e. Find the project NPV and IRR with the next three years after-tax free cash flow given in d.[2\n",
    "marks]\n",
    "</div>\n",
    "You also aim to add dividend-paying stock to the conglomerate's portfolio of holdings. You begin by\n",
    "reviewing the following candidates:\n",
    "\n",
    "#### Candidate 1:\n",
    "\n",
    "Atat Steel is in the steel manufacturing sector with a required rate of return of 7.35%. You estimate that\n",
    "if the economy is booming, the company’s current annual dividend of $0.7 per share will grow 11.5% a\n",
    "year for the next four years and then stabilize at a 3.5% growth rate a year indefinitely. However, if the\n",
    "economy falls into a recession, then Atat Steel will not likely experience the elevated 11.5% short-run\n",
    "growth and instead will grow by 3.5% indefinitely.\n",
    "\n",
    "#### Candidate 2:\n",
    "\n",
    "GT&T company is a mature company with a stable capital structure. The company had an EPS of $2 in\n",
    "2023. The earnings in the next year without the additional planned investments are expected to remain\n",
    "at $2. The earnings retention ratio is 0.60. The company is expected to earn an ROE of 15% on its\n",
    "investments, and the required rate of return is 12%. Assume that all dividends are paid at the end of the\n",
    "year.\n",
    "\n",
    "<div class=\"alert alert-warning\">\n",
    "\n",
    "f. Use the discount dividend method and find the current value of Atat Steel stock under both economic\n",
    "conditions. [3 marks]\n",
    "\n",
    "g. Calculate GT&T's sustainable growth rate, find the value of the company's stock at the beginning of\n",
    "2024 and determine the company's present value of growth opportunities. [2 marks]\n",
    "</div>"
   ]
  },
  {
   "cell_type": "markdown",
   "metadata": {},
   "source": [
    "#### Imports"
   ]
  },
  {
   "cell_type": "code",
   "execution_count": 1,
   "metadata": {},
   "outputs": [],
   "source": [
    "import numpy as np\n",
    "import pandas as pd\n",
    "import math\n",
    "import numpy_financial as npf\n",
    "import matplotlib.pyplot as plt\n",
    "import plotly.graph_objects as go\n",
    "import seaborn as sns\n",
    "import plotly.express as px\n",
    "from scipy import stats"
   ]
  },
  {
   "cell_type": "markdown",
   "metadata": {},
   "source": [
    "#### Question 1a"
   ]
  },
  {
   "cell_type": "markdown",
   "metadata": {},
   "source": [
    "Weighted average cost of capital is calculated according to this formula:\n",
    "\n",
    "$$WACC = \\frac{E}{V}\\ * R_{e} + \\frac{D}{V}\\ * R_{d} * (1 - T_{c})$$\n",
    "\n",
    "Where:\n",
    "\n",
    "$E$ = Market value Equity\n",
    "\n",
    "$D$ = Market value of Debt\n",
    "\n",
    "$V=E+D$ = Total market value\n",
    "\n",
    "$R_{e}$ = Cost of Equity\n",
    "\n",
    "$R_{d}$ = Cost of Debt\n",
    "\n",
    "$T_{c}$ = Corporate tax rate"
   ]
  },
  {
   "cell_type": "code",
   "execution_count": 14,
   "metadata": {},
   "outputs": [
    {
     "name": "stdout",
     "output_type": "stream",
     "text": [
      "WACC before investment:  9.366 %\n"
     ]
    }
   ],
   "source": [
    "def cost_of_equity(rf:float, beta:float, equity_risk_premium:float) -> float:\n",
    "    return (rf + beta*equity_risk_premium)\n",
    "\n",
    "def WACC(E:float, D:float, cost_of_equity:float, cost_of_debt:float, tax_rate:float) -> float:\n",
    "    return ((E/(E+D))*cost_of_equity + (D/(E+D))*cost_of_debt*(1-tax_rate))\n",
    "\n",
    "D = 1.0\n",
    "E = 2.6\n",
    "equity_risk_premium = 0.0493\n",
    "rf = 0.043\n",
    "beta = 1.3\n",
    "cost_of_debt = 0.094\n",
    "tax_rate = 0.375\n",
    "\n",
    "boogle_cost_of_equity = cost_of_equity(rf, beta, equity_risk_premium)\n",
    "boggle_WACC_pre_investment = np.round(WACC(E, D, boogle_cost_of_equity, cost_of_debt, tax_rate), decimals=5)\n",
    "\n",
    "print(\"WACC before investment: \", boggle_WACC_pre_investment*100, \"%\")\n",
    "\n"
   ]
  },
  {
   "cell_type": "markdown",
   "metadata": {},
   "source": [
    "#### Question 1b"
   ]
  },
  {
   "cell_type": "code",
   "execution_count": 15,
   "metadata": {},
   "outputs": [
    {
     "name": "stdout",
     "output_type": "stream",
     "text": [
      "Asset beta before investment:  1.6125\n"
     ]
    }
   ],
   "source": [
    "def asset_beta(equity_beta:float, tax_rate:float, D: float, E:float) -> float:\n",
    "    return (equity_beta/(1+(1-tax_rate)*(D/E)))\n",
    "\n",
    "print(\"Asset beta before investment: \" ,+ asset_beta(beta, tax_rate, D, E))"
   ]
  },
  {
   "cell_type": "markdown",
   "metadata": {},
   "source": [
    "#### Question 1c"
   ]
  },
  {
   "cell_type": "markdown",
   "metadata": {},
   "source": [
    "#### Question 1d"
   ]
  },
  {
   "cell_type": "markdown",
   "metadata": {},
   "source": [
    "#### Question 1e"
   ]
  },
  {
   "cell_type": "markdown",
   "metadata": {},
   "source": [
    "#### Question 1f"
   ]
  },
  {
   "cell_type": "markdown",
   "metadata": {},
   "source": [
    "#### Question 1g"
   ]
  }
 ],
 "metadata": {
  "kernelspec": {
   "display_name": "Python 3",
   "language": "python",
   "name": "python3"
  },
  "language_info": {
   "codemirror_mode": {
    "name": "ipython",
    "version": 3
   },
   "file_extension": ".py",
   "mimetype": "text/x-python",
   "name": "python",
   "nbconvert_exporter": "python",
   "pygments_lexer": "ipython3",
   "version": "3.11.1"
  }
 },
 "nbformat": 4,
 "nbformat_minor": 2
}
