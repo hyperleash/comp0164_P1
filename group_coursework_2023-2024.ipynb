{
 "cells": [
  {
   "cell_type": "markdown",
   "metadata": {},
   "source": [
    "# COMP0164: Digital Finance\n",
    "## Group Coursework\n",
    "\n",
    "If you have set up an **`Anaconda`** environment, don't forget to activate it using:\n",
    "\n",
    "> conda activate digital_finance_env\n",
    "\n",
    "Below are the imports that you will need for the coursework:"
   ]
  },
  {
   "cell_type": "code",
   "execution_count": 2,
   "metadata": {},
   "outputs": [],
   "source": [
    "import numpy as np\n",
    "import pandas as pd\n",
    "import numpy_financial as npf\n",
    "from scipy import stats\n",
    "import datetime\n",
    "\n",
    "import yfinance as yf\n",
    "from pypfopt import risk_models\n",
    "from pypfopt import expected_returns\n",
    "from pypfopt.efficient_frontier import EfficientFrontier\n",
    "\n",
    "import matplotlib.pyplot as plt\n",
    "%matplotlib inline"
   ]
  },
  {
   "cell_type": "markdown",
   "metadata": {},
   "source": [
    "<div class=\"alert alert-danger\">\n",
    "<b>WARNING: </b>\n",
    "\n",
    "For question 5, you may want to use **pypfopt** package to construct the efficient frontier. If you use Python>=3.6, the plotting functionality of the **pypfopt** package may not work. Please use the function defined below to plot EfficientFrontier object.\n",
    "</div>"
   ]
  },
  {
   "cell_type": "code",
   "execution_count": 3,
   "metadata": {},
   "outputs": [],
   "source": [
    "import copy\n",
    "\n",
    "def plot_efficient_frontier(ef: EfficientFrontier, points: int=100) -> None:\n",
    "    fig, ax = plt.subplots()\n",
    "\n",
    "    # Generate range of returns\n",
    "    ef_minvol = copy.deepcopy(ef)\n",
    "    ef_maxret = copy.deepcopy(ef)\n",
    "    ef_minvol.min_volatility()\n",
    "    min_ret = ef_minvol.portfolio_performance()[0]\n",
    "    max_ret = ef_maxret._max_return()\n",
    "    ef_param_range = np.linspace(min_ret, max_ret - 0.0001, points)\n",
    "\n",
    "    # Plot efficient frontier from EfficientFrontier object\n",
    "    mus, sigmas = [], []\n",
    "    for param_value in ef_param_range:\n",
    "        ef_i = copy.deepcopy(ef)\n",
    "        try:\n",
    "            ef_i.efficient_return(param_value)\n",
    "        except:\n",
    "            raise ValueError(\"pypfopt experiences problems with portfolio optimization.\")\n",
    "        ret, sigma, _ = ef_i.portfolio_performance()\n",
    "        mus.append(ret)\n",
    "        sigmas.append(sigma)\n",
    "    \n",
    "    # Generate axis and plot\n",
    "    ax.plot(sigmas, mus, label=\"Efficient Frontier\")\n",
    "    ax.legend()\n",
    "    ax.set_xlabel(\"Volatility\")\n",
    "    ax.set_ylabel(\"Return\")\n",
    "    plt.show()"
   ]
  },
  {
   "cell_type": "markdown",
   "metadata": {},
   "source": [
    "## To-Do List\n",
    "\n",
    "- [ ] Read Coursework Instructions\n",
    "- [ ] Read Scenario Setting\n",
    "- [ ] Question 1\n",
    "  - [ ] Part a.)\n",
    "  - [ ] Part b.)\n",
    "  - [ ] Part c.)\n",
    "  - [ ] Part d.)\n",
    "  - [ ] Part e.)\n",
    "  - [ ] Part f.)\n",
    "  - [ ] Part g.)\n",
    "- [ ] Question 2\n",
    "  - [ ] Part a.)\n",
    "  - [ ] Part b.)\n",
    "  - [ ] Part c.)\n",
    "  - [ ] Part d.)\n",
    "  - [ ] Part e.)\n",
    "  - [ ] Part f.)\n",
    "  - [ ] Part g.)\n",
    "- [ ] Question 3\n",
    "  - [ ] Part a.)\n",
    "  - [ ] Part b.)\n",
    "  - [ ] Part c.)\n",
    "  - [ ] Part d.)\n",
    "  - [ ] Part e.)\n",
    "  - [ ] Part f.)\n",
    "  - [ ] Part g.)\n",
    "  - [ ] Part h.)\n",
    "  - [ ] Part i.)\n",
    "- [ ] Question 4\n",
    "  - [ ] Part a.)\n",
    "  - [ ] Part b.)\n",
    "  - [ ] Part c.)\n",
    "  - [ ] Part d.)\n",
    "  - [ ] Part e.)\n",
    "  - [ ] Part f.)\n",
    "- [ ] Question 5\n",
    "  - [ ] Part a.)\n",
    "  - [ ] Part b.)\n",
    "  - [ ] Part c.)\n",
    "  - [ ] Part d.)\n",
    "- [ ] Question 6\n",
    "  - [ ] Part a.)\n",
    "  - [ ] Part b.)"
   ]
  },
  {
   "cell_type": "markdown",
   "metadata": {},
   "source": [
    "## Scenario Setting\n",
    "Conglomerates are companies that hold assets including other companies and involve themselves directly into the operations of their subsidiaries. Therefore, it is common for conglomerates to evaluate the business projects of their holdings to understand the returns of these projects.\n",
    "\n",
    "Suppose that you are an executive director working for a conglomerate called Accretion and your job is to assist various operations of the subsidiaries that exist under Accretion, and then report back to the stakeholders."
   ]
  },
  {
   "cell_type": "markdown",
   "metadata": {},
   "source": [
    "## Question 1 [16 marks]\n",
    "\n",
    "You areasked to evaluate businesses and investment ideas on behalf of Accretion as part of their portfolio reshuffling.\n",
    "\n",
    "Boogle is one of the conglomerate's largest holdings. During the latest earnings report, Boogle's CFO announced an investment of \\$150 million for a new business expansion project. The project is planned to be financed with an \\$100 million public offering of a 10-year debt and the remainder with an equity offering. You have collected the information necessary to evaluate this project in Exhibits 1 and 2.\n",
    "\n",
    "### Exhibit 1: Relevant Information for Analysis\n",
    "| | |\n",
    "| --- | --- |\n",
    "| Equity risk premium | 4.93% |\n",
    "| Risk-free rate of interest | 4.3% |\n",
    "| Market value of Boogle's debt | \\$1.0 billion |\n",
    "| Market value of Boogle's equity | \\$2.6 billion |\n",
    "| Boogle's equity beta | 1.3 |\n",
    "| Boogle's before-tax cost of debt | 9.4% |\n",
    "| Corporate tax rate | 37.5% |\n",
    "\n",
    "\n",
    "### Exhibit 2: Estimated Project Financials\n",
    "|     | Year 1 | Year 2 | Year 3 |\n",
    "| --- | --- | --- | --- |\n",
    "| Revenue | 96.7 | 111.2 | 115.44 |\n",
    "| Operating Costs | 32  | 36  | 38  |\n",
    "| Depreciation | 16  | 16  | 16  |"
   ]
  },
  {
   "cell_type": "markdown",
   "metadata": {},
   "source": [
    "1 a.) Calculate the weighted average cost of capital of Boogle prior to its new project investment. **\\[3 marks\\]**"
   ]
  },
  {
   "cell_type": "code",
   "execution_count": null,
   "metadata": {},
   "outputs": [],
   "source": [
    "# Solution"
   ]
  },
  {
   "cell_type": "markdown",
   "metadata": {},
   "source": [
    "1 b.) Find Boogle's asset beta prior to the new project. **\\[2 marks\\]**"
   ]
  },
  {
   "cell_type": "code",
   "execution_count": null,
   "metadata": {},
   "outputs": [],
   "source": [
    "# Solution"
   ]
  },
  {
   "cell_type": "markdown",
   "metadata": {},
   "source": [
    "1 c.) Assuming the new project has the same asset beta as the Boogle company in b.), find the the project equity beta. **\\[2 marks\\]**"
   ]
  },
  {
   "cell_type": "code",
   "execution_count": null,
   "metadata": {},
   "outputs": [],
   "source": [
    "# Solution"
   ]
  },
  {
   "cell_type": "markdown",
   "metadata": {},
   "source": [
    "1 d.) The formula for project after-tax free cash flow at time t is\n",
    "\n",
    "$$ FCF = (\\text{Revenue}-\\text{Operating Costs}-\\text{Depreciation})\\times(1-\\text{Tax Rate})+\\text{Depreciation}.$$\n",
    "\n",
    "Define a Python function to calculate the project FCFs and demonstrate that the after-tax free cash flow generated for the next three years are $46.4 million, $53 million, and $54.4 million respectively. **\\[2 marks\\]**"
   ]
  },
  {
   "cell_type": "code",
   "execution_count": null,
   "metadata": {},
   "outputs": [],
   "source": [
    "# Solution"
   ]
  },
  {
   "cell_type": "markdown",
   "metadata": {},
   "source": [
    "1 e.) Find the project NPV and IRR with the next three years after-tax free cash flow given in d.).**\\[2 marks\\]**"
   ]
  },
  {
   "cell_type": "code",
   "execution_count": null,
   "metadata": {},
   "outputs": [],
   "source": [
    "# Solution"
   ]
  },
  {
   "cell_type": "markdown",
   "metadata": {},
   "source": [
    "You also aim to add dividend-paying stock to the conglomerate's portfolio of holdings. You begin by reviewing the following candidates:\n",
    "\n",
    "### Candidate 1:\n",
    "Atat Steel is in the steel manufacturing sector with a required rate of return of 7.35%. You estimate that if the economy is booming, the company’s current annual dividend of $0.7 per share will grow 11.5% a year for the next four years and then stabilize at a 3.5% growth rate a year indefinitely. However, if the economy falls into a recession, then Atat Steel will not likely experience the elevated 11.5% short-run growth and instead will grow by 3.5% indefinitely.\n",
    "\n",
    "### Candidate 2:\n",
    "GT&T company is a mature company with a stable capital structure. The company had an EPS of $2 in 2023. The earnings in the next year without the additional planned investments are expected to remain at $2. The earnings retention ratio is 0.60. The company is expected to earn an ROE of 15% on its investments, and the required rate of return is 12%. Assume that all dividends are paid at the end of the year."
   ]
  },
  {
   "cell_type": "markdown",
   "metadata": {},
   "source": [
    "1 f.) Use the discount dividend method and find the current value of Atat Steel stock under both economic conditions. **\\[3 marks\\]**"
   ]
  },
  {
   "cell_type": "code",
   "execution_count": null,
   "metadata": {},
   "outputs": [],
   "source": [
    "# Solution"
   ]
  },
  {
   "cell_type": "markdown",
   "metadata": {},
   "source": [
    "1 g.) Calculate GT&T's sustainable growth rate, find the value of the company's stock at the beginning of 2024 and determine the company's present value of growth opportunities. **\\[2 marks\\]**"
   ]
  },
  {
   "cell_type": "code",
   "execution_count": null,
   "metadata": {},
   "outputs": [],
   "source": [
    "# Solution"
   ]
  },
  {
   "cell_type": "markdown",
   "metadata": {},
   "source": [
    "## Question 2 \\[15 marks\\]\n",
    "One of the businesses owned by Accretion, Nautilus is a machine tool manufacturer and system integrator, specialising in precision hydraulics for large-scale industrial applications.\n",
    "\n",
    "Nautilus currently has several ground-breaking patents, on the stabilisation of structural columns for large-scale industrial developments in difficult soil conditions. This is planned to revolutionise the industry and be a massive boom for the future of Nautilus. The bond market has not reacted to this reveal of information for a whole year. With a new windfall from a successful year, Nautilus plans to repurchase some bonds it has already issued onto the market, thus you’re tasked to evaluate these issued bonds.\n",
    "\n",
    "### Exhibit 3: Current Par Yield and Spot Rates\n",
    "| Maturity | Par Rate (Annual Coupon) | Spot Rate (Annual Coupon) |\n",
    "| --- | --- | --- |\n",
    "| 1 year | 2.50% | 2.50% |\n",
    "| 2 years | 2.99% | 3.00% |\n",
    "| 3 years | 3.48% | 3.50% |\n",
    "| 4 years | 3.95% | 4.00% |\n",
    "| 5 years | 4.37% | ? |\n",
    "\n",
    "### Exhibit 4: Information for Selected Bonds\n",
    "| Bond Name | Maturity | Coupon | Type of Bond |\n",
    "| --- | --- | --- | --- |\n",
    "| Bond A (Face value $1,000) | 3 years | 6.40% annual | Option-free |\n",
    "| Bond B | 3 years | 4.30% annual | Callable at par on start of year 1 and tear 2 |\n",
    "| Bond C | 3 years | 4.30% annual | Putable at par on start of year 1 and year 2 |\n",
    "\n",
    "### Exhibit 5: Binomial Interest Rate Tree, based on an estimated interest rate volatility of 10%, where ‘u’ represents an up move and ‘d’ represents a down move.\n",
    "| Year 0 | Year 1 | Year 2 |\n",
    "| --- | --- | --- |\n",
    "| 2.2500% (r) | 3.5930% (ru node) | 4.6470% (ruu node) |\n",
    "|  | 2.9417% (rd node) | 3.8046% (rud node) |\n",
    "|  |  | 3.1150% (rdd node) |"
   ]
  },
  {
   "cell_type": "markdown",
   "metadata": {},
   "source": [
    "2 a.) Based on Exhibit 3, find the five-year spot rate. **\\[2 marks\\]**"
   ]
  },
  {
   "cell_type": "code",
   "execution_count": null,
   "metadata": {},
   "outputs": [],
   "source": [
    "# Solution"
   ]
  },
  {
   "cell_type": "markdown",
   "metadata": {},
   "source": [
    "2 b.) Assuming the law of one price, use Exhibit 3 to calculate the forward rate of a one-year loan starting in three years. **\\[1 mark\\]**"
   ]
  },
  {
   "cell_type": "code",
   "execution_count": null,
   "metadata": {},
   "outputs": [],
   "source": [
    "# Solution"
   ]
  },
  {
   "cell_type": "markdown",
   "metadata": {},
   "source": [
    "2 c.) Given spot rates for one-, two-, and three-year zero bonds, how many forward rates can be calculated? Please list the forward rates that can be calculated and briefly explain your answer. **\\[3 marks\\]**"
   ]
  },
  {
   "cell_type": "code",
   "execution_count": null,
   "metadata": {},
   "outputs": [],
   "source": [
    "# Solution"
   ]
  },
  {
   "cell_type": "markdown",
   "metadata": {},
   "source": [
    "2 d.) Find the yield to maturity for Bond A. You can use the IRR function from NumPy Financial. **\\[3 marks\\]**"
   ]
  },
  {
   "cell_type": "code",
   "execution_count": null,
   "metadata": {},
   "outputs": [],
   "source": [
    "# Solution"
   ]
  },
  {
   "cell_type": "markdown",
   "metadata": {},
   "source": [
    "2 e.) Based on Exhibit 5, assume an equal probability of interest rate going up and down at each node. Calculate the value of Bond B and Bond C with the binomial tree model. **\\[3 marks\\]**"
   ]
  },
  {
   "cell_type": "code",
   "execution_count": null,
   "metadata": {},
   "outputs": [],
   "source": [
    "# Solution"
   ]
  },
  {
   "cell_type": "markdown",
   "metadata": {},
   "source": [
    "2 f.) All else being equal, explain the effect of a fall in interest rates on Bond B and Bond C. **\\[2 marks\\]**"
   ]
  },
  {
   "cell_type": "code",
   "execution_count": null,
   "metadata": {},
   "outputs": [],
   "source": [
    "# Solution"
   ]
  },
  {
   "cell_type": "markdown",
   "metadata": {},
   "source": [
    "2 g.) All else being equal, which bond is most likely to increase in value if interest rate volatility is 15% rather than 10%? Briefly explain your answer. (Hint: consider the value of options) **\\[1 mark\\]**"
   ]
  },
  {
   "cell_type": "code",
   "execution_count": null,
   "metadata": {},
   "outputs": [],
   "source": [
    "# Solution"
   ]
  },
  {
   "cell_type": "markdown",
   "metadata": {},
   "source": [
    "## Question 3 \\[19 marks\\]\n",
    "Uiop, manages the money generated in the conglomerate. As part of your role to be in the know of the many operational parts of Accretion, you’ve been rotated to the strategic options desk within Uiop, and you’ve been asked to refresh your knowledge on derivatives and their pricing, by answering these questions.\n",
    "\n",
    "Consider a stock that is trading at $100 today. The stock does not generate income/pay dividends. The stock is traded in a well-functioning market with no transaction costs and no restrictions on short sales. Both borrowing and lending can be done in unlimited amounts at the 2% risk-free rate."
   ]
  },
  {
   "cell_type": "markdown",
   "metadata": {},
   "source": [
    "3 a.) What is the difference between forward contracts and futures contracts (Answers should be no longer than 200 words) **\\[4 marks\\]**"
   ]
  },
  {
   "cell_type": "code",
   "execution_count": null,
   "metadata": {},
   "outputs": [],
   "source": [
    "# Solution"
   ]
  },
  {
   "cell_type": "markdown",
   "metadata": {},
   "source": [
    "3 b.) Consider a futures contract on the stock with a maturity of one year. Suppose that the futures price is currently at $110. Are the futures fairly priced? Describe an arbitrage strategy that would allow you to make a riskless profit. **\\[2 marks\\]**"
   ]
  },
  {
   "cell_type": "code",
   "execution_count": null,
   "metadata": {},
   "outputs": [],
   "source": [
    "# Solution"
   ]
  },
  {
   "cell_type": "markdown",
   "metadata": {},
   "source": [
    "3 c.) Same as question b) but suppose that the futures price is currently at $95. Describe your arbitrage strategy. **\\[2 marks\\]**"
   ]
  },
  {
   "cell_type": "code",
   "execution_count": null,
   "metadata": {},
   "outputs": [],
   "source": [
    "# Solution"
   ]
  },
  {
   "cell_type": "markdown",
   "metadata": {},
   "source": [
    "Suppose that you hold a long position on a European call option that has an underlying asset price of $57.03, strike price of $55, risk-free rate of 0.22%, 32% volatility, and time-to-expiration of 0.25. The underlying asset does not have any investment yield."
   ]
  },
  {
   "cell_type": "markdown",
   "metadata": {},
   "source": [
    "3 d.) Value this call option. **\\[1 mark\\]**"
   ]
  },
  {
   "cell_type": "code",
   "execution_count": null,
   "metadata": {},
   "outputs": [],
   "source": [
    "# Solution"
   ]
  },
  {
   "cell_type": "markdown",
   "metadata": {},
   "source": [
    "3 e.) Based on the Black-Scholes-Merton model, describe a portfolio that replicates the call option’s payoff. **\\[1 mark\\]**"
   ]
  },
  {
   "cell_type": "code",
   "execution_count": null,
   "metadata": {},
   "outputs": [],
   "source": [
    "# Solution"
   ]
  },
  {
   "cell_type": "markdown",
   "metadata": {},
   "source": [
    "3 f.) Define a function to price the option with the binomial tree method. The function should take the number of steps (n) as one of the inputs. You should NOT use list comprehension in the function. **\\[3 marks\\]**"
   ]
  },
  {
   "cell_type": "code",
   "execution_count": null,
   "metadata": {},
   "outputs": [],
   "source": [
    "# Solution"
   ]
  },
  {
   "cell_type": "markdown",
   "metadata": {},
   "source": [
    "3 g.) By setting n = 10, 50 and 100, compare and comment on the results under the two methods. **\\[2 marks\\]**"
   ]
  },
  {
   "cell_type": "code",
   "execution_count": null,
   "metadata": {},
   "outputs": [],
   "source": [
    "# Solution"
   ]
  },
  {
   "cell_type": "markdown",
   "metadata": {},
   "source": [
    "When buying two calls with the exercises price of $x_{1}$ and $x_{3}$ and selling two calls with the exercise price of $x_{2}$, where\n",
    "$$x_{2} = \\frac{x_{1}+x_{3}}{2},$$\n",
    "with the same maturity for the same stock, we call it a butterfly. Consider the following call options for the stock that trades at $57.03:\n",
    "| Option Name | Strike Price | Call Premium (Price) |\n",
    "| --- | --- | --- |\n",
    "| Call Option 1 | 50 | 10 |\n",
    "| Call Option 2 | 55 | 7 |\n",
    "| Call Option 3 | 60 | 5 |"
   ]
  },
  {
   "cell_type": "markdown",
   "metadata": {},
   "source": [
    "3 h.) Create a graphical representation of the butterfly strategy’s payoff. **\\[2 marks\\]**"
   ]
  },
  {
   "cell_type": "code",
   "execution_count": null,
   "metadata": {},
   "outputs": [],
   "source": [
    "# Solution"
   ]
  },
  {
   "cell_type": "markdown",
   "metadata": {},
   "source": [
    "3 i.) Why might an investor enter into such a strategy? **\\[2 marks\\]**"
   ]
  },
  {
   "cell_type": "code",
   "execution_count": null,
   "metadata": {},
   "outputs": [],
   "source": [
    "# Solution"
   ]
  },
  {
   "cell_type": "markdown",
   "metadata": {},
   "source": [
    "## Question 4 \\[13 marks\\]\n",
    "Suppose that you want to build a portfolio with the stocks (with tickers of) AAPL, GOOG, AMZN and META. You plan to retrieve the relevant Yahoo Finance data with the yfinance Python module from the 1st of Jan. 2017 to 1st of Nov. 2023 (inclusive)."
   ]
  },
  {
   "cell_type": "markdown",
   "metadata": {},
   "source": [
    "4 a.) Calculate the daily returns of these stocks. You should use the adjusted daily closing price. **\\[1 mark\\]**"
   ]
  },
  {
   "cell_type": "code",
   "execution_count": 16,
   "metadata": {},
   "outputs": [
    {
     "name": "stdout",
     "output_type": "stream",
     "text": [
      "[*********************100%%**********************]  4 of 4 completed\n",
      "                AAPL      AMZN      GOOG      META\n",
      "Date                                              \n",
      "2017-01-04 -0.001119  0.004657  0.000967  0.015660\n",
      "2017-01-05  0.005085  0.030732  0.009048  0.016682\n",
      "2017-01-06  0.011148  0.019912  0.015277  0.022707\n",
      "2017-01-09  0.009159  0.001168  0.000620  0.012074\n",
      "2017-01-10  0.001008 -0.001280 -0.002306 -0.004404\n"
     ]
    },
    {
     "name": "stderr",
     "output_type": "stream",
     "text": [
      "/Users/MacBookAirSF/anaconda3/envs/digital_finance_env/lib/python3.11/site-packages/_plotly_utils/basevalidators.py:105: FutureWarning:\n",
      "\n",
      "The behavior of DatetimeProperties.to_pydatetime is deprecated, in a future version this will return a Series containing python datetime objects instead of an ndarray. To retain the old behavior, call `np.array` on the result\n",
      "\n"
     ]
    },
    {
     "data": {
      "application/vnd.plotly.v1+json": {
       "config": {
        "plotlyServerURL": "https://plot.ly"
       },
       "data": [
        {
         "hovertemplate": "Date=%{x}<br>AAPL=%{y}<extra></extra>",
         "legendgroup": "",
         "line": {
          "color": "#636efa",
          "dash": "solid"
         },
         "marker": {
          "symbol": "circle"
         },
         "mode": "lines",
         "name": "",
         "orientation": "v",
         "showlegend": false,
         "type": "scatter",
         "x": [
          "2017-01-04T00:00:00",
          "2017-01-05T00:00:00",
          "2017-01-06T00:00:00",
          "2017-01-09T00:00:00",
          "2017-01-10T00:00:00",
          "2017-01-11T00:00:00",
          "2017-01-12T00:00:00",
          "2017-01-13T00:00:00",
          "2017-01-17T00:00:00",
          "2017-01-18T00:00:00",
          "2017-01-19T00:00:00",
          "2017-01-20T00:00:00",
          "2017-01-23T00:00:00",
          "2017-01-24T00:00:00",
          "2017-01-25T00:00:00",
          "2017-01-26T00:00:00",
          "2017-01-27T00:00:00",
          "2017-01-30T00:00:00",
          "2017-01-31T00:00:00",
          "2017-02-01T00:00:00",
          "2017-02-02T00:00:00",
          "2017-02-03T00:00:00",
          "2017-02-06T00:00:00",
          "2017-02-07T00:00:00",
          "2017-02-08T00:00:00",
          "2017-02-09T00:00:00",
          "2017-02-10T00:00:00",
          "2017-02-13T00:00:00",
          "2017-02-14T00:00:00",
          "2017-02-15T00:00:00",
          "2017-02-16T00:00:00",
          "2017-02-17T00:00:00",
          "2017-02-21T00:00:00",
          "2017-02-22T00:00:00",
          "2017-02-23T00:00:00",
          "2017-02-24T00:00:00",
          "2017-02-27T00:00:00",
          "2017-02-28T00:00:00",
          "2017-03-01T00:00:00",
          "2017-03-02T00:00:00",
          "2017-03-03T00:00:00",
          "2017-03-06T00:00:00",
          "2017-03-07T00:00:00",
          "2017-03-08T00:00:00",
          "2017-03-09T00:00:00",
          "2017-03-10T00:00:00",
          "2017-03-13T00:00:00",
          "2017-03-14T00:00:00",
          "2017-03-15T00:00:00",
          "2017-03-16T00:00:00",
          "2017-03-17T00:00:00",
          "2017-03-20T00:00:00",
          "2017-03-21T00:00:00",
          "2017-03-22T00:00:00",
          "2017-03-23T00:00:00",
          "2017-03-24T00:00:00",
          "2017-03-27T00:00:00",
          "2017-03-28T00:00:00",
          "2017-03-29T00:00:00",
          "2017-03-30T00:00:00",
          "2017-03-31T00:00:00",
          "2017-04-03T00:00:00",
          "2017-04-04T00:00:00",
          "2017-04-05T00:00:00",
          "2017-04-06T00:00:00",
          "2017-04-07T00:00:00",
          "2017-04-10T00:00:00",
          "2017-04-11T00:00:00",
          "2017-04-12T00:00:00",
          "2017-04-13T00:00:00",
          "2017-04-17T00:00:00",
          "2017-04-18T00:00:00",
          "2017-04-19T00:00:00",
          "2017-04-20T00:00:00",
          "2017-04-21T00:00:00",
          "2017-04-24T00:00:00",
          "2017-04-25T00:00:00",
          "2017-04-26T00:00:00",
          "2017-04-27T00:00:00",
          "2017-04-28T00:00:00",
          "2017-05-01T00:00:00",
          "2017-05-02T00:00:00",
          "2017-05-03T00:00:00",
          "2017-05-04T00:00:00",
          "2017-05-05T00:00:00",
          "2017-05-08T00:00:00",
          "2017-05-09T00:00:00",
          "2017-05-10T00:00:00",
          "2017-05-11T00:00:00",
          "2017-05-12T00:00:00",
          "2017-05-15T00:00:00",
          "2017-05-16T00:00:00",
          "2017-05-17T00:00:00",
          "2017-05-18T00:00:00",
          "2017-05-19T00:00:00",
          "2017-05-22T00:00:00",
          "2017-05-23T00:00:00",
          "2017-05-24T00:00:00",
          "2017-05-25T00:00:00",
          "2017-05-26T00:00:00",
          "2017-05-30T00:00:00",
          "2017-05-31T00:00:00",
          "2017-06-01T00:00:00",
          "2017-06-02T00:00:00",
          "2017-06-05T00:00:00",
          "2017-06-06T00:00:00",
          "2017-06-07T00:00:00",
          "2017-06-08T00:00:00",
          "2017-06-09T00:00:00",
          "2017-06-12T00:00:00",
          "2017-06-13T00:00:00",
          "2017-06-14T00:00:00",
          "2017-06-15T00:00:00",
          "2017-06-16T00:00:00",
          "2017-06-19T00:00:00",
          "2017-06-20T00:00:00",
          "2017-06-21T00:00:00",
          "2017-06-22T00:00:00",
          "2017-06-23T00:00:00",
          "2017-06-26T00:00:00",
          "2017-06-27T00:00:00",
          "2017-06-28T00:00:00",
          "2017-06-29T00:00:00",
          "2017-06-30T00:00:00",
          "2017-07-03T00:00:00",
          "2017-07-05T00:00:00",
          "2017-07-06T00:00:00",
          "2017-07-07T00:00:00",
          "2017-07-10T00:00:00",
          "2017-07-11T00:00:00",
          "2017-07-12T00:00:00",
          "2017-07-13T00:00:00",
          "2017-07-14T00:00:00",
          "2017-07-17T00:00:00",
          "2017-07-18T00:00:00",
          "2017-07-19T00:00:00",
          "2017-07-20T00:00:00",
          "2017-07-21T00:00:00",
          "2017-07-24T00:00:00",
          "2017-07-25T00:00:00",
          "2017-07-26T00:00:00",
          "2017-07-27T00:00:00",
          "2017-07-28T00:00:00",
          "2017-07-31T00:00:00",
          "2017-08-01T00:00:00",
          "2017-08-02T00:00:00",
          "2017-08-03T00:00:00",
          "2017-08-04T00:00:00",
          "2017-08-07T00:00:00",
          "2017-08-08T00:00:00",
          "2017-08-09T00:00:00",
          "2017-08-10T00:00:00",
          "2017-08-11T00:00:00",
          "2017-08-14T00:00:00",
          "2017-08-15T00:00:00",
          "2017-08-16T00:00:00",
          "2017-08-17T00:00:00",
          "2017-08-18T00:00:00",
          "2017-08-21T00:00:00",
          "2017-08-22T00:00:00",
          "2017-08-23T00:00:00",
          "2017-08-24T00:00:00",
          "2017-08-25T00:00:00",
          "2017-08-28T00:00:00",
          "2017-08-29T00:00:00",
          "2017-08-30T00:00:00",
          "2017-08-31T00:00:00",
          "2017-09-01T00:00:00",
          "2017-09-05T00:00:00",
          "2017-09-06T00:00:00",
          "2017-09-07T00:00:00",
          "2017-09-08T00:00:00",
          "2017-09-11T00:00:00",
          "2017-09-12T00:00:00",
          "2017-09-13T00:00:00",
          "2017-09-14T00:00:00",
          "2017-09-15T00:00:00",
          "2017-09-18T00:00:00",
          "2017-09-19T00:00:00",
          "2017-09-20T00:00:00",
          "2017-09-21T00:00:00",
          "2017-09-22T00:00:00",
          "2017-09-25T00:00:00",
          "2017-09-26T00:00:00",
          "2017-09-27T00:00:00",
          "2017-09-28T00:00:00",
          "2017-09-29T00:00:00",
          "2017-10-02T00:00:00",
          "2017-10-03T00:00:00",
          "2017-10-04T00:00:00",
          "2017-10-05T00:00:00",
          "2017-10-06T00:00:00",
          "2017-10-09T00:00:00",
          "2017-10-10T00:00:00",
          "2017-10-11T00:00:00",
          "2017-10-12T00:00:00",
          "2017-10-13T00:00:00",
          "2017-10-16T00:00:00",
          "2017-10-17T00:00:00",
          "2017-10-18T00:00:00",
          "2017-10-19T00:00:00",
          "2017-10-20T00:00:00",
          "2017-10-23T00:00:00",
          "2017-10-24T00:00:00",
          "2017-10-25T00:00:00",
          "2017-10-26T00:00:00",
          "2017-10-27T00:00:00",
          "2017-10-30T00:00:00",
          "2017-10-31T00:00:00"
         ],
         "xaxis": "x",
         "y": [
          -0.0011194078572409616,
          0.005085305650759597,
          0.01114844624492961,
          0.0091594924609395,
          0.0010084305955238015,
          0.005373360120639159,
          -0.004175503262366487,
          -0.001761198068408687,
          0.008064608877419221,
          -0.00008320903784053701,
          -0.0017501997558861948,
          0.001836630187753041,
          0.0006668336768154148,
          -0.0009161231530584457,
          0.015920610488804554,
          0.0004923603431994383,
          0.0000818852154831351,
          -0.002624011323703934,
          -0.0023022021662012504,
          0.06098061632397811,
          -0.0017083543110285593,
          0.004279023618758648,
          0.009373957435652391,
          0.009517254987532864,
          0.003877517516204909,
          0.0072256551362064325,
          -0.00226513446011245,
          0.00885560607411362,
          0.012979234046128552,
          0.0036287710124884853,
          -0.0011802592040520699,
          0.002733170086511416,
          0.007220834098897733,
          0.002999362222772861,
          -0.004229747143883356,
          0.0009518480625458903,
          0.0019754717533342347,
          0.0004386183486251305,
          0.02043918635085218,
          -0.0059372450482279016,
          0.005900690949564025,
          -0.0031482265064648463,
          0.001292276509681889,
          -0.0037274370184716688,
          -0.0023017208646098908,
          0.003316577791783626,
          0.00043141706485050335,
          -0.0015084290008668955,
          0.010576246580587645,
          0.0016372741077192998,
          -0.004975155551935284,
          0.010500812464300902,
          -0.011452140933518873,
          0.011298795919708615,
          -0.003535831957133251,
          -0.001986651702387543,
          0.001706333503695756,
          0.020726649464758884,
          0.002225570745256311,
          -0.0013185123782145647,
          -0.0018758029696849254,
          0.0002782969409040881,
          0.007446262963223038,
          -0.00518056772328479,
          -0.002499771593898248,
          -0.0022275118969385943,
          -0.0011861712589850137,
          -0.010756292862342476,
          0.0012002622526339213,
          -0.005288845278566656,
          0.005529811189204592,
          -0.004441947472425878,
          -0.0036828562889448246,
          0.012510834170495144,
          -0.0011935512930215664,
          0.009629357296224939,
          0.006196010649723638,
          -0.005880782895036352,
          0.0007652383845391242,
          -0.0009737833498374426,
          0.02039733220809703,
          0.0063443748733129635,
          -0.0030505373910512112,
          -0.0036039302321734246,
          0.016583672729071575,
          0.027188349043416382,
          0.006404778137333089,
          -0.004740732259623903,
          0.00864848558830733,
          0.013965813774646563,
          -0.0025626367047689724,
          -0.0014771061083443948,
          -0.03357591505651969,
          0.015241713242235333,
          0.0034083775381110737,
          0.006076404471467178,
          -0.0012339976487741877,
          -0.002990602398507347,
          0.003456119569841043,
          -0.0016895117036459517,
          0.00039054715020703235,
          -0.005921832404726546,
          0.002749361430395947,
          0.014819303207772805,
          -0.00977811124621375,
          0.003378128246143808,
          0.005956558293102487,
          -0.0024458653219116,
          -0.03877643115683971,
          -0.02389578217929833,
          0.008045586738980592,
          -0.009755231938796571,
          -0.005993703111719206,
          -0.013999063889644447,
          0.02860773553900331,
          -0.009088757843468409,
          0.0059308392767110085,
          -0.0016456369166570894,
          0.004463326316823668,
          -0.0031442329333114527,
          -0.014333154757956046,
          0.014610920845795183,
          -0.014743000583739896,
          0.00236639133638028,
          -0.0036109148132511537,
          0.004111400381105357,
          -0.009438409554085037,
          0.010159046423129814,
          0.006103340012960867,
          0.0032401650455566866,
          0.0014428079959381002,
          0.01392939255104464,
          0.008593942882642924,
          0.003489511013574864,
          0.003476724437058376,
          0.00626335219662022,
          -0.00450286398599109,
          -0.0004654407033518604,
          0.012111312900809912,
          0.004274174436216471,
          0.004713684939487095,
          -0.01889786236061508,
          -0.007040196512588359,
          -0.005150464108352293,
          0.008875155892669184,
          0.047250759319871216,
          -0.009990684300418273,
          0.005270335798278625,
          0.015474249555917474,
          0.007997340737554204,
          0.006121828624751302,
          -0.03185195847824629,
          0.013907030942419185,
          0.015049733874462401,
          0.010947341461964077,
          -0.004022040803646543,
          -0.019198521325373807,
          -0.0022806117837798068,
          -0.0018414303211568006,
          0.016347567179521683,
          0.0012517255568911256,
          -0.004438019866926268,
          0.003704363486396689,
          0.010071297455659378,
          0.008918197320819887,
          0.0027009864550067153,
          0.003978951164929967,
          0.00030502725199776926,
          -0.012008525523015567,
          -0.0010489182792944307,
          -0.004014539841734943,
          -0.016308870730206593,
          0.018092321362815245,
          -0.003963162235053885,
          -0.0075218444571361065,
          -0.008581452846996518,
          0.010108909011940614,
          -0.007568049493155593,
          0.0003776342155379364,
          -0.016757569039398956,
          -0.017171734256026916,
          -0.009779342938123103,
          -0.008822098833010217,
          0.017203700775459074,
          0.00711764131728021,
          -0.006159810241220032,
          0.005480503657366853,
          -0.0020114787631533293,
          0.004356090756786779,
          -0.006473665412566332,
          0.012444715593673994,
          -0.0005790335454892714,
          0.0034771526202526104,
          0.0003850115472288085,
          0.004169301240818157,
          -0.0035133180854728385,
          0.006346538922016531,
          0.018408510823538782,
          0.0036903306813016457,
          -0.004424668911765961,
          -0.023660673648418395,
          0.0017314646486146223,
          -0.0005122089066101898,
          0.0059551209031194485,
          -0.004392379134580682,
          0.006393683017985596,
          0.03583001501537808,
          0.022508557548520658,
          0.013915300225052496
         ],
         "yaxis": "y"
        }
       ],
       "layout": {
        "legend": {
         "tracegroupgap": 0
        },
        "template": {
         "data": {
          "bar": [
           {
            "error_x": {
             "color": "#2a3f5f"
            },
            "error_y": {
             "color": "#2a3f5f"
            },
            "marker": {
             "line": {
              "color": "#E5ECF6",
              "width": 0.5
             },
             "pattern": {
              "fillmode": "overlay",
              "size": 10,
              "solidity": 0.2
             }
            },
            "type": "bar"
           }
          ],
          "barpolar": [
           {
            "marker": {
             "line": {
              "color": "#E5ECF6",
              "width": 0.5
             },
             "pattern": {
              "fillmode": "overlay",
              "size": 10,
              "solidity": 0.2
             }
            },
            "type": "barpolar"
           }
          ],
          "carpet": [
           {
            "aaxis": {
             "endlinecolor": "#2a3f5f",
             "gridcolor": "white",
             "linecolor": "white",
             "minorgridcolor": "white",
             "startlinecolor": "#2a3f5f"
            },
            "baxis": {
             "endlinecolor": "#2a3f5f",
             "gridcolor": "white",
             "linecolor": "white",
             "minorgridcolor": "white",
             "startlinecolor": "#2a3f5f"
            },
            "type": "carpet"
           }
          ],
          "choropleth": [
           {
            "colorbar": {
             "outlinewidth": 0,
             "ticks": ""
            },
            "type": "choropleth"
           }
          ],
          "contour": [
           {
            "colorbar": {
             "outlinewidth": 0,
             "ticks": ""
            },
            "colorscale": [
             [
              0,
              "#0d0887"
             ],
             [
              0.1111111111111111,
              "#46039f"
             ],
             [
              0.2222222222222222,
              "#7201a8"
             ],
             [
              0.3333333333333333,
              "#9c179e"
             ],
             [
              0.4444444444444444,
              "#bd3786"
             ],
             [
              0.5555555555555556,
              "#d8576b"
             ],
             [
              0.6666666666666666,
              "#ed7953"
             ],
             [
              0.7777777777777778,
              "#fb9f3a"
             ],
             [
              0.8888888888888888,
              "#fdca26"
             ],
             [
              1,
              "#f0f921"
             ]
            ],
            "type": "contour"
           }
          ],
          "contourcarpet": [
           {
            "colorbar": {
             "outlinewidth": 0,
             "ticks": ""
            },
            "type": "contourcarpet"
           }
          ],
          "heatmap": [
           {
            "colorbar": {
             "outlinewidth": 0,
             "ticks": ""
            },
            "colorscale": [
             [
              0,
              "#0d0887"
             ],
             [
              0.1111111111111111,
              "#46039f"
             ],
             [
              0.2222222222222222,
              "#7201a8"
             ],
             [
              0.3333333333333333,
              "#9c179e"
             ],
             [
              0.4444444444444444,
              "#bd3786"
             ],
             [
              0.5555555555555556,
              "#d8576b"
             ],
             [
              0.6666666666666666,
              "#ed7953"
             ],
             [
              0.7777777777777778,
              "#fb9f3a"
             ],
             [
              0.8888888888888888,
              "#fdca26"
             ],
             [
              1,
              "#f0f921"
             ]
            ],
            "type": "heatmap"
           }
          ],
          "heatmapgl": [
           {
            "colorbar": {
             "outlinewidth": 0,
             "ticks": ""
            },
            "colorscale": [
             [
              0,
              "#0d0887"
             ],
             [
              0.1111111111111111,
              "#46039f"
             ],
             [
              0.2222222222222222,
              "#7201a8"
             ],
             [
              0.3333333333333333,
              "#9c179e"
             ],
             [
              0.4444444444444444,
              "#bd3786"
             ],
             [
              0.5555555555555556,
              "#d8576b"
             ],
             [
              0.6666666666666666,
              "#ed7953"
             ],
             [
              0.7777777777777778,
              "#fb9f3a"
             ],
             [
              0.8888888888888888,
              "#fdca26"
             ],
             [
              1,
              "#f0f921"
             ]
            ],
            "type": "heatmapgl"
           }
          ],
          "histogram": [
           {
            "marker": {
             "pattern": {
              "fillmode": "overlay",
              "size": 10,
              "solidity": 0.2
             }
            },
            "type": "histogram"
           }
          ],
          "histogram2d": [
           {
            "colorbar": {
             "outlinewidth": 0,
             "ticks": ""
            },
            "colorscale": [
             [
              0,
              "#0d0887"
             ],
             [
              0.1111111111111111,
              "#46039f"
             ],
             [
              0.2222222222222222,
              "#7201a8"
             ],
             [
              0.3333333333333333,
              "#9c179e"
             ],
             [
              0.4444444444444444,
              "#bd3786"
             ],
             [
              0.5555555555555556,
              "#d8576b"
             ],
             [
              0.6666666666666666,
              "#ed7953"
             ],
             [
              0.7777777777777778,
              "#fb9f3a"
             ],
             [
              0.8888888888888888,
              "#fdca26"
             ],
             [
              1,
              "#f0f921"
             ]
            ],
            "type": "histogram2d"
           }
          ],
          "histogram2dcontour": [
           {
            "colorbar": {
             "outlinewidth": 0,
             "ticks": ""
            },
            "colorscale": [
             [
              0,
              "#0d0887"
             ],
             [
              0.1111111111111111,
              "#46039f"
             ],
             [
              0.2222222222222222,
              "#7201a8"
             ],
             [
              0.3333333333333333,
              "#9c179e"
             ],
             [
              0.4444444444444444,
              "#bd3786"
             ],
             [
              0.5555555555555556,
              "#d8576b"
             ],
             [
              0.6666666666666666,
              "#ed7953"
             ],
             [
              0.7777777777777778,
              "#fb9f3a"
             ],
             [
              0.8888888888888888,
              "#fdca26"
             ],
             [
              1,
              "#f0f921"
             ]
            ],
            "type": "histogram2dcontour"
           }
          ],
          "mesh3d": [
           {
            "colorbar": {
             "outlinewidth": 0,
             "ticks": ""
            },
            "type": "mesh3d"
           }
          ],
          "parcoords": [
           {
            "line": {
             "colorbar": {
              "outlinewidth": 0,
              "ticks": ""
             }
            },
            "type": "parcoords"
           }
          ],
          "pie": [
           {
            "automargin": true,
            "type": "pie"
           }
          ],
          "scatter": [
           {
            "fillpattern": {
             "fillmode": "overlay",
             "size": 10,
             "solidity": 0.2
            },
            "type": "scatter"
           }
          ],
          "scatter3d": [
           {
            "line": {
             "colorbar": {
              "outlinewidth": 0,
              "ticks": ""
             }
            },
            "marker": {
             "colorbar": {
              "outlinewidth": 0,
              "ticks": ""
             }
            },
            "type": "scatter3d"
           }
          ],
          "scattercarpet": [
           {
            "marker": {
             "colorbar": {
              "outlinewidth": 0,
              "ticks": ""
             }
            },
            "type": "scattercarpet"
           }
          ],
          "scattergeo": [
           {
            "marker": {
             "colorbar": {
              "outlinewidth": 0,
              "ticks": ""
             }
            },
            "type": "scattergeo"
           }
          ],
          "scattergl": [
           {
            "marker": {
             "colorbar": {
              "outlinewidth": 0,
              "ticks": ""
             }
            },
            "type": "scattergl"
           }
          ],
          "scattermapbox": [
           {
            "marker": {
             "colorbar": {
              "outlinewidth": 0,
              "ticks": ""
             }
            },
            "type": "scattermapbox"
           }
          ],
          "scatterpolar": [
           {
            "marker": {
             "colorbar": {
              "outlinewidth": 0,
              "ticks": ""
             }
            },
            "type": "scatterpolar"
           }
          ],
          "scatterpolargl": [
           {
            "marker": {
             "colorbar": {
              "outlinewidth": 0,
              "ticks": ""
             }
            },
            "type": "scatterpolargl"
           }
          ],
          "scatterternary": [
           {
            "marker": {
             "colorbar": {
              "outlinewidth": 0,
              "ticks": ""
             }
            },
            "type": "scatterternary"
           }
          ],
          "surface": [
           {
            "colorbar": {
             "outlinewidth": 0,
             "ticks": ""
            },
            "colorscale": [
             [
              0,
              "#0d0887"
             ],
             [
              0.1111111111111111,
              "#46039f"
             ],
             [
              0.2222222222222222,
              "#7201a8"
             ],
             [
              0.3333333333333333,
              "#9c179e"
             ],
             [
              0.4444444444444444,
              "#bd3786"
             ],
             [
              0.5555555555555556,
              "#d8576b"
             ],
             [
              0.6666666666666666,
              "#ed7953"
             ],
             [
              0.7777777777777778,
              "#fb9f3a"
             ],
             [
              0.8888888888888888,
              "#fdca26"
             ],
             [
              1,
              "#f0f921"
             ]
            ],
            "type": "surface"
           }
          ],
          "table": [
           {
            "cells": {
             "fill": {
              "color": "#EBF0F8"
             },
             "line": {
              "color": "white"
             }
            },
            "header": {
             "fill": {
              "color": "#C8D4E3"
             },
             "line": {
              "color": "white"
             }
            },
            "type": "table"
           }
          ]
         },
         "layout": {
          "annotationdefaults": {
           "arrowcolor": "#2a3f5f",
           "arrowhead": 0,
           "arrowwidth": 1
          },
          "autotypenumbers": "strict",
          "coloraxis": {
           "colorbar": {
            "outlinewidth": 0,
            "ticks": ""
           }
          },
          "colorscale": {
           "diverging": [
            [
             0,
             "#8e0152"
            ],
            [
             0.1,
             "#c51b7d"
            ],
            [
             0.2,
             "#de77ae"
            ],
            [
             0.3,
             "#f1b6da"
            ],
            [
             0.4,
             "#fde0ef"
            ],
            [
             0.5,
             "#f7f7f7"
            ],
            [
             0.6,
             "#e6f5d0"
            ],
            [
             0.7,
             "#b8e186"
            ],
            [
             0.8,
             "#7fbc41"
            ],
            [
             0.9,
             "#4d9221"
            ],
            [
             1,
             "#276419"
            ]
           ],
           "sequential": [
            [
             0,
             "#0d0887"
            ],
            [
             0.1111111111111111,
             "#46039f"
            ],
            [
             0.2222222222222222,
             "#7201a8"
            ],
            [
             0.3333333333333333,
             "#9c179e"
            ],
            [
             0.4444444444444444,
             "#bd3786"
            ],
            [
             0.5555555555555556,
             "#d8576b"
            ],
            [
             0.6666666666666666,
             "#ed7953"
            ],
            [
             0.7777777777777778,
             "#fb9f3a"
            ],
            [
             0.8888888888888888,
             "#fdca26"
            ],
            [
             1,
             "#f0f921"
            ]
           ],
           "sequentialminus": [
            [
             0,
             "#0d0887"
            ],
            [
             0.1111111111111111,
             "#46039f"
            ],
            [
             0.2222222222222222,
             "#7201a8"
            ],
            [
             0.3333333333333333,
             "#9c179e"
            ],
            [
             0.4444444444444444,
             "#bd3786"
            ],
            [
             0.5555555555555556,
             "#d8576b"
            ],
            [
             0.6666666666666666,
             "#ed7953"
            ],
            [
             0.7777777777777778,
             "#fb9f3a"
            ],
            [
             0.8888888888888888,
             "#fdca26"
            ],
            [
             1,
             "#f0f921"
            ]
           ]
          },
          "colorway": [
           "#636efa",
           "#EF553B",
           "#00cc96",
           "#ab63fa",
           "#FFA15A",
           "#19d3f3",
           "#FF6692",
           "#B6E880",
           "#FF97FF",
           "#FECB52"
          ],
          "font": {
           "color": "#2a3f5f"
          },
          "geo": {
           "bgcolor": "white",
           "lakecolor": "white",
           "landcolor": "#E5ECF6",
           "showlakes": true,
           "showland": true,
           "subunitcolor": "white"
          },
          "hoverlabel": {
           "align": "left"
          },
          "hovermode": "closest",
          "mapbox": {
           "style": "light"
          },
          "paper_bgcolor": "white",
          "plot_bgcolor": "#E5ECF6",
          "polar": {
           "angularaxis": {
            "gridcolor": "white",
            "linecolor": "white",
            "ticks": ""
           },
           "bgcolor": "#E5ECF6",
           "radialaxis": {
            "gridcolor": "white",
            "linecolor": "white",
            "ticks": ""
           }
          },
          "scene": {
           "xaxis": {
            "backgroundcolor": "#E5ECF6",
            "gridcolor": "white",
            "gridwidth": 2,
            "linecolor": "white",
            "showbackground": true,
            "ticks": "",
            "zerolinecolor": "white"
           },
           "yaxis": {
            "backgroundcolor": "#E5ECF6",
            "gridcolor": "white",
            "gridwidth": 2,
            "linecolor": "white",
            "showbackground": true,
            "ticks": "",
            "zerolinecolor": "white"
           },
           "zaxis": {
            "backgroundcolor": "#E5ECF6",
            "gridcolor": "white",
            "gridwidth": 2,
            "linecolor": "white",
            "showbackground": true,
            "ticks": "",
            "zerolinecolor": "white"
           }
          },
          "shapedefaults": {
           "line": {
            "color": "#2a3f5f"
           }
          },
          "ternary": {
           "aaxis": {
            "gridcolor": "white",
            "linecolor": "white",
            "ticks": ""
           },
           "baxis": {
            "gridcolor": "white",
            "linecolor": "white",
            "ticks": ""
           },
           "bgcolor": "#E5ECF6",
           "caxis": {
            "gridcolor": "white",
            "linecolor": "white",
            "ticks": ""
           }
          },
          "title": {
           "x": 0.05
          },
          "xaxis": {
           "automargin": true,
           "gridcolor": "white",
           "linecolor": "white",
           "ticks": "",
           "title": {
            "standoff": 15
           },
           "zerolinecolor": "white",
           "zerolinewidth": 2
          },
          "yaxis": {
           "automargin": true,
           "gridcolor": "white",
           "linecolor": "white",
           "ticks": "",
           "title": {
            "standoff": 15
           },
           "zerolinecolor": "white",
           "zerolinewidth": 2
          }
         }
        },
        "title": {
         "text": "Daily Returns of AAPL"
        },
        "xaxis": {
         "anchor": "y",
         "domain": [
          0,
          1
         ],
         "title": {
          "text": "Date"
         }
        },
        "yaxis": {
         "anchor": "x",
         "domain": [
          0,
          1
         ],
         "title": {
          "text": "AAPL"
         }
        }
       }
      }
     },
     "metadata": {},
     "output_type": "display_data"
    },
    {
     "name": "stderr",
     "output_type": "stream",
     "text": [
      "/Users/MacBookAirSF/anaconda3/envs/digital_finance_env/lib/python3.11/site-packages/_plotly_utils/basevalidators.py:105: FutureWarning:\n",
      "\n",
      "The behavior of DatetimeProperties.to_pydatetime is deprecated, in a future version this will return a Series containing python datetime objects instead of an ndarray. To retain the old behavior, call `np.array` on the result\n",
      "\n"
     ]
    },
    {
     "data": {
      "application/vnd.plotly.v1+json": {
       "config": {
        "plotlyServerURL": "https://plot.ly"
       },
       "data": [
        {
         "hovertemplate": "Date=%{x}<br>GOOG=%{y}<extra></extra>",
         "legendgroup": "",
         "line": {
          "color": "#636efa",
          "dash": "solid"
         },
         "marker": {
          "symbol": "circle"
         },
         "mode": "lines",
         "name": "",
         "orientation": "v",
         "showlegend": false,
         "type": "scatter",
         "x": [
          "2017-01-04T00:00:00",
          "2017-01-05T00:00:00",
          "2017-01-06T00:00:00",
          "2017-01-09T00:00:00",
          "2017-01-10T00:00:00",
          "2017-01-11T00:00:00",
          "2017-01-12T00:00:00",
          "2017-01-13T00:00:00",
          "2017-01-17T00:00:00",
          "2017-01-18T00:00:00",
          "2017-01-19T00:00:00",
          "2017-01-20T00:00:00",
          "2017-01-23T00:00:00",
          "2017-01-24T00:00:00",
          "2017-01-25T00:00:00",
          "2017-01-26T00:00:00",
          "2017-01-27T00:00:00",
          "2017-01-30T00:00:00",
          "2017-01-31T00:00:00",
          "2017-02-01T00:00:00",
          "2017-02-02T00:00:00",
          "2017-02-03T00:00:00",
          "2017-02-06T00:00:00",
          "2017-02-07T00:00:00",
          "2017-02-08T00:00:00",
          "2017-02-09T00:00:00",
          "2017-02-10T00:00:00",
          "2017-02-13T00:00:00",
          "2017-02-14T00:00:00",
          "2017-02-15T00:00:00",
          "2017-02-16T00:00:00",
          "2017-02-17T00:00:00",
          "2017-02-21T00:00:00",
          "2017-02-22T00:00:00",
          "2017-02-23T00:00:00",
          "2017-02-24T00:00:00",
          "2017-02-27T00:00:00",
          "2017-02-28T00:00:00",
          "2017-03-01T00:00:00",
          "2017-03-02T00:00:00",
          "2017-03-03T00:00:00",
          "2017-03-06T00:00:00",
          "2017-03-07T00:00:00",
          "2017-03-08T00:00:00",
          "2017-03-09T00:00:00",
          "2017-03-10T00:00:00",
          "2017-03-13T00:00:00",
          "2017-03-14T00:00:00",
          "2017-03-15T00:00:00",
          "2017-03-16T00:00:00",
          "2017-03-17T00:00:00",
          "2017-03-20T00:00:00",
          "2017-03-21T00:00:00",
          "2017-03-22T00:00:00",
          "2017-03-23T00:00:00",
          "2017-03-24T00:00:00",
          "2017-03-27T00:00:00",
          "2017-03-28T00:00:00",
          "2017-03-29T00:00:00",
          "2017-03-30T00:00:00",
          "2017-03-31T00:00:00",
          "2017-04-03T00:00:00",
          "2017-04-04T00:00:00",
          "2017-04-05T00:00:00",
          "2017-04-06T00:00:00",
          "2017-04-07T00:00:00",
          "2017-04-10T00:00:00",
          "2017-04-11T00:00:00",
          "2017-04-12T00:00:00",
          "2017-04-13T00:00:00",
          "2017-04-17T00:00:00",
          "2017-04-18T00:00:00",
          "2017-04-19T00:00:00",
          "2017-04-20T00:00:00",
          "2017-04-21T00:00:00",
          "2017-04-24T00:00:00",
          "2017-04-25T00:00:00",
          "2017-04-26T00:00:00",
          "2017-04-27T00:00:00",
          "2017-04-28T00:00:00",
          "2017-05-01T00:00:00",
          "2017-05-02T00:00:00",
          "2017-05-03T00:00:00",
          "2017-05-04T00:00:00",
          "2017-05-05T00:00:00",
          "2017-05-08T00:00:00",
          "2017-05-09T00:00:00",
          "2017-05-10T00:00:00",
          "2017-05-11T00:00:00",
          "2017-05-12T00:00:00",
          "2017-05-15T00:00:00",
          "2017-05-16T00:00:00",
          "2017-05-17T00:00:00",
          "2017-05-18T00:00:00",
          "2017-05-19T00:00:00",
          "2017-05-22T00:00:00",
          "2017-05-23T00:00:00",
          "2017-05-24T00:00:00",
          "2017-05-25T00:00:00",
          "2017-05-26T00:00:00",
          "2017-05-30T00:00:00",
          "2017-05-31T00:00:00",
          "2017-06-01T00:00:00",
          "2017-06-02T00:00:00",
          "2017-06-05T00:00:00",
          "2017-06-06T00:00:00",
          "2017-06-07T00:00:00",
          "2017-06-08T00:00:00",
          "2017-06-09T00:00:00",
          "2017-06-12T00:00:00",
          "2017-06-13T00:00:00",
          "2017-06-14T00:00:00",
          "2017-06-15T00:00:00",
          "2017-06-16T00:00:00",
          "2017-06-19T00:00:00",
          "2017-06-20T00:00:00",
          "2017-06-21T00:00:00",
          "2017-06-22T00:00:00",
          "2017-06-23T00:00:00",
          "2017-06-26T00:00:00",
          "2017-06-27T00:00:00",
          "2017-06-28T00:00:00",
          "2017-06-29T00:00:00",
          "2017-06-30T00:00:00",
          "2017-07-03T00:00:00",
          "2017-07-05T00:00:00",
          "2017-07-06T00:00:00",
          "2017-07-07T00:00:00",
          "2017-07-10T00:00:00",
          "2017-07-11T00:00:00",
          "2017-07-12T00:00:00",
          "2017-07-13T00:00:00",
          "2017-07-14T00:00:00",
          "2017-07-17T00:00:00",
          "2017-07-18T00:00:00",
          "2017-07-19T00:00:00",
          "2017-07-20T00:00:00",
          "2017-07-21T00:00:00",
          "2017-07-24T00:00:00",
          "2017-07-25T00:00:00",
          "2017-07-26T00:00:00",
          "2017-07-27T00:00:00",
          "2017-07-28T00:00:00",
          "2017-07-31T00:00:00",
          "2017-08-01T00:00:00",
          "2017-08-02T00:00:00",
          "2017-08-03T00:00:00",
          "2017-08-04T00:00:00",
          "2017-08-07T00:00:00",
          "2017-08-08T00:00:00",
          "2017-08-09T00:00:00",
          "2017-08-10T00:00:00",
          "2017-08-11T00:00:00",
          "2017-08-14T00:00:00",
          "2017-08-15T00:00:00",
          "2017-08-16T00:00:00",
          "2017-08-17T00:00:00",
          "2017-08-18T00:00:00",
          "2017-08-21T00:00:00",
          "2017-08-22T00:00:00",
          "2017-08-23T00:00:00",
          "2017-08-24T00:00:00",
          "2017-08-25T00:00:00",
          "2017-08-28T00:00:00",
          "2017-08-29T00:00:00",
          "2017-08-30T00:00:00",
          "2017-08-31T00:00:00",
          "2017-09-01T00:00:00",
          "2017-09-05T00:00:00",
          "2017-09-06T00:00:00",
          "2017-09-07T00:00:00",
          "2017-09-08T00:00:00",
          "2017-09-11T00:00:00",
          "2017-09-12T00:00:00",
          "2017-09-13T00:00:00",
          "2017-09-14T00:00:00",
          "2017-09-15T00:00:00",
          "2017-09-18T00:00:00",
          "2017-09-19T00:00:00",
          "2017-09-20T00:00:00",
          "2017-09-21T00:00:00",
          "2017-09-22T00:00:00",
          "2017-09-25T00:00:00",
          "2017-09-26T00:00:00",
          "2017-09-27T00:00:00",
          "2017-09-28T00:00:00",
          "2017-09-29T00:00:00",
          "2017-10-02T00:00:00",
          "2017-10-03T00:00:00",
          "2017-10-04T00:00:00",
          "2017-10-05T00:00:00",
          "2017-10-06T00:00:00",
          "2017-10-09T00:00:00",
          "2017-10-10T00:00:00",
          "2017-10-11T00:00:00",
          "2017-10-12T00:00:00",
          "2017-10-13T00:00:00",
          "2017-10-16T00:00:00",
          "2017-10-17T00:00:00",
          "2017-10-18T00:00:00",
          "2017-10-19T00:00:00",
          "2017-10-20T00:00:00",
          "2017-10-23T00:00:00",
          "2017-10-24T00:00:00",
          "2017-10-25T00:00:00",
          "2017-10-26T00:00:00",
          "2017-10-27T00:00:00",
          "2017-10-30T00:00:00",
          "2017-10-31T00:00:00"
         ],
         "xaxis": "x",
         "y": [
          0.0009668001864113762,
          0.009048137803401524,
          0.015276660915298557,
          0.0006202698391473138,
          -0.002305890244353459,
          0.0038768387254997094,
          -0.001918515411299393,
          0.001885019398962351,
          -0.0040476737987230615,
          0.0018145899976711455,
          -0.0048321295680462395,
          0.0035466092361351453,
          0.017751122630421,
          0.005565674568809076,
          0.014322651514372842,
          -0.004212248844959299,
          -0.01062302583734931,
          -0.025494637387618813,
          -0.006892529018885152,
          -0.0013742274518785402,
          0.003562835364175676,
          0.0037068771466122197,
          -0.0001871438104040779,
          0.007025680632150255,
          0.0017472625101906392,
          0.0014597571557546374,
          0.005076775988084092,
          0.0068456113422163956,
          0.0014769122913018684,
          -0.001791645410618492,
          0.006324913002752286,
          0.004744210330453358,
          0.004335396320455098,
          -0.0010822207018352792,
          0.0006862010497443727,
          -0.0032358366871140243,
          0.0007723859812267531,
          -0.007319629654946702,
          0.014613560843219409,
          -0.0055193540024724985,
          -0.0018661305525351501,
          -0.0015679700139422659,
          0.004989272690439472,
          0.004159111725034137,
          0.003962239991699867,
          0.005449047944890095,
          0.0027157297899524924,
          0.00009456211874003806,
          0.0018685079273996763,
          0.0018649330626903105,
          0.003935055494637352,
          -0.004365601754943382,
          -0.02114567180220983,
          -0.0010475879432301216,
          -0.01447698747848225,
          -0.0038528636823645934,
          0.006237437232415433,
          0.0017206193447625306,
          0.012778296728343852,
          0.00010828214325608876,
          -0.0023331357856950508,
          0.010837095102283145,
          -0.004746319343851169,
          -0.0037864036487843533,
          -0.004245761189972996,
          -0.0038773631166133526,
          0.00007271640647732447,
          -0.0016732808191305404,
          0.0011781152990697485,
          -0.000921928373171732,
          0.016525814933180172,
          -0.0004181189114509376,
          0.0016610494524846864,
          0.004104004647121462,
          0.001829731205823304,
          0.02320948690989577,
          0.011057563743946064,
          -0.00065352325740764,
          0.0028908783776984137,
          0.03627106101159172,
          0.007296162169349918,
          0.004240698161845691,
          0.011566553407345026,
          0.0049835818732424375,
          -0.00486232024458344,
          0.007733574455331738,
          -0.002279754209865259,
          -0.003636724054293383,
          0.001959551344475674,
          0.001740839971272834,
          0.005213362300731106,
          0.0063175275056086555,
          -0.024793266068451003,
          0.011548292910284363,
          0.0040527056776427095,
          0.008404578371829396,
          0.007389705444576622,
          0.006471178817877288,
          0.015267656755868053,
          0.001990642868974657,
          0.004539453079229094,
          -0.011292345415788274,
          0.0021661135673243237,
          0.008945631795848064,
          0.00828206926451891,
          -0.00722794569888674,
          0.004474887614141609,
          0.0025180096998012047,
          -0.03414650646498085,
          -0.007296050672101262,
          0.011135808804413339,
          -0.0027690365964481156,
          -0.008887559671350909,
          -0.0026849547803481366,
          0.01871717577467047,
          -0.00704007828861597,
          0.009278016914473719,
          -0.002459743204813236,
          0.008881071554121656,
          -0.01379468261397332,
          -0.026190006355759188,
          0.014191300484586167,
          -0.02413639895739428,
          -0.00987152002754521,
          -0.011037363572510728,
          0.014476408515480488,
          -0.005506124913336574,
          0.013124689345075602,
          0.011114818154568384,
          0.001388947415415176,
          0.014772769405578368,
          0.003528179562975131,
          0.009322559795647223,
          -0.002688272444381412,
          0.01256527040370048,
          0.005686720183067484,
          -0.002822095753230336,
          0.004926895248254182,
          0.007626493098437326,
          -0.030234377772478838,
          -0.003050393567458176,
          -0.014465100389567609,
          0.007965006831489374,
          -0.011714940868606694,
          0.00035461719790919055,
          -0.00047268263995758897,
          -0.007244312497580951,
          0.004666267155606585,
          0.0015086791805642985,
          -0.0027653026066907227,
          -0.004197282398151647,
          -0.01696827258158984,
          0.007881089623269943,
          0.00905516544594187,
          -0.00048769516488855746,
          0.005139760825075168,
          -0.01723914287007655,
          -0.00034027344316944763,
          -0.0044033620372888604,
          0.019886191036618595,
          0.0024980823173279543,
          -0.006170427346516294,
          -0.005850571753269307,
          -0.002271017154621968,
          0.00818552134044781,
          0.008987430119020923,
          0.0104994558464091,
          -0.002118504683159994,
          -0.009484284549536204,
          -0.0006893531141274334,
          0.008773380393094499,
          -0.010096689807138848,
          0.0027846260250377064,
          0.0032182762550732047,
          0.0032401209217318705,
          -0.010672780908474677,
          -0.005210215542288177,
          -0.005748180817704562,
          0.007442620282616108,
          0.010598684957592752,
          0.0009339575550524337,
          -0.0042040421348427115,
          -0.008141866498039385,
          0.004223806838976829,
          0.02122480629747181,
          0.005304444345177295,
          0.01012118162652098,
          -0.006088974307799422,
          0.004741530029410024,
          -0.006379269624010586,
          0.019208168121175095,
          0.009206541728215667,
          -0.0019307888612664081,
          -0.00450352943454857,
          0.017119071344407377,
          -0.0014354906851593574,
          0.0018728444505715647,
          0.002344137736130847,
          0.0001815057625771388,
          0.0006349241989551668,
          -0.008420529104871566,
          0.0038092335940116406,
          -0.01998581744809025,
          0.0021580838572428096,
          0.0028746813748725675,
          -0.0007911343414777061,
          0.04802794076785655,
          -0.0021191972080969457,
          -0.0004620647814823631
         ],
         "yaxis": "y"
        }
       ],
       "layout": {
        "legend": {
         "tracegroupgap": 0
        },
        "template": {
         "data": {
          "bar": [
           {
            "error_x": {
             "color": "#2a3f5f"
            },
            "error_y": {
             "color": "#2a3f5f"
            },
            "marker": {
             "line": {
              "color": "#E5ECF6",
              "width": 0.5
             },
             "pattern": {
              "fillmode": "overlay",
              "size": 10,
              "solidity": 0.2
             }
            },
            "type": "bar"
           }
          ],
          "barpolar": [
           {
            "marker": {
             "line": {
              "color": "#E5ECF6",
              "width": 0.5
             },
             "pattern": {
              "fillmode": "overlay",
              "size": 10,
              "solidity": 0.2
             }
            },
            "type": "barpolar"
           }
          ],
          "carpet": [
           {
            "aaxis": {
             "endlinecolor": "#2a3f5f",
             "gridcolor": "white",
             "linecolor": "white",
             "minorgridcolor": "white",
             "startlinecolor": "#2a3f5f"
            },
            "baxis": {
             "endlinecolor": "#2a3f5f",
             "gridcolor": "white",
             "linecolor": "white",
             "minorgridcolor": "white",
             "startlinecolor": "#2a3f5f"
            },
            "type": "carpet"
           }
          ],
          "choropleth": [
           {
            "colorbar": {
             "outlinewidth": 0,
             "ticks": ""
            },
            "type": "choropleth"
           }
          ],
          "contour": [
           {
            "colorbar": {
             "outlinewidth": 0,
             "ticks": ""
            },
            "colorscale": [
             [
              0,
              "#0d0887"
             ],
             [
              0.1111111111111111,
              "#46039f"
             ],
             [
              0.2222222222222222,
              "#7201a8"
             ],
             [
              0.3333333333333333,
              "#9c179e"
             ],
             [
              0.4444444444444444,
              "#bd3786"
             ],
             [
              0.5555555555555556,
              "#d8576b"
             ],
             [
              0.6666666666666666,
              "#ed7953"
             ],
             [
              0.7777777777777778,
              "#fb9f3a"
             ],
             [
              0.8888888888888888,
              "#fdca26"
             ],
             [
              1,
              "#f0f921"
             ]
            ],
            "type": "contour"
           }
          ],
          "contourcarpet": [
           {
            "colorbar": {
             "outlinewidth": 0,
             "ticks": ""
            },
            "type": "contourcarpet"
           }
          ],
          "heatmap": [
           {
            "colorbar": {
             "outlinewidth": 0,
             "ticks": ""
            },
            "colorscale": [
             [
              0,
              "#0d0887"
             ],
             [
              0.1111111111111111,
              "#46039f"
             ],
             [
              0.2222222222222222,
              "#7201a8"
             ],
             [
              0.3333333333333333,
              "#9c179e"
             ],
             [
              0.4444444444444444,
              "#bd3786"
             ],
             [
              0.5555555555555556,
              "#d8576b"
             ],
             [
              0.6666666666666666,
              "#ed7953"
             ],
             [
              0.7777777777777778,
              "#fb9f3a"
             ],
             [
              0.8888888888888888,
              "#fdca26"
             ],
             [
              1,
              "#f0f921"
             ]
            ],
            "type": "heatmap"
           }
          ],
          "heatmapgl": [
           {
            "colorbar": {
             "outlinewidth": 0,
             "ticks": ""
            },
            "colorscale": [
             [
              0,
              "#0d0887"
             ],
             [
              0.1111111111111111,
              "#46039f"
             ],
             [
              0.2222222222222222,
              "#7201a8"
             ],
             [
              0.3333333333333333,
              "#9c179e"
             ],
             [
              0.4444444444444444,
              "#bd3786"
             ],
             [
              0.5555555555555556,
              "#d8576b"
             ],
             [
              0.6666666666666666,
              "#ed7953"
             ],
             [
              0.7777777777777778,
              "#fb9f3a"
             ],
             [
              0.8888888888888888,
              "#fdca26"
             ],
             [
              1,
              "#f0f921"
             ]
            ],
            "type": "heatmapgl"
           }
          ],
          "histogram": [
           {
            "marker": {
             "pattern": {
              "fillmode": "overlay",
              "size": 10,
              "solidity": 0.2
             }
            },
            "type": "histogram"
           }
          ],
          "histogram2d": [
           {
            "colorbar": {
             "outlinewidth": 0,
             "ticks": ""
            },
            "colorscale": [
             [
              0,
              "#0d0887"
             ],
             [
              0.1111111111111111,
              "#46039f"
             ],
             [
              0.2222222222222222,
              "#7201a8"
             ],
             [
              0.3333333333333333,
              "#9c179e"
             ],
             [
              0.4444444444444444,
              "#bd3786"
             ],
             [
              0.5555555555555556,
              "#d8576b"
             ],
             [
              0.6666666666666666,
              "#ed7953"
             ],
             [
              0.7777777777777778,
              "#fb9f3a"
             ],
             [
              0.8888888888888888,
              "#fdca26"
             ],
             [
              1,
              "#f0f921"
             ]
            ],
            "type": "histogram2d"
           }
          ],
          "histogram2dcontour": [
           {
            "colorbar": {
             "outlinewidth": 0,
             "ticks": ""
            },
            "colorscale": [
             [
              0,
              "#0d0887"
             ],
             [
              0.1111111111111111,
              "#46039f"
             ],
             [
              0.2222222222222222,
              "#7201a8"
             ],
             [
              0.3333333333333333,
              "#9c179e"
             ],
             [
              0.4444444444444444,
              "#bd3786"
             ],
             [
              0.5555555555555556,
              "#d8576b"
             ],
             [
              0.6666666666666666,
              "#ed7953"
             ],
             [
              0.7777777777777778,
              "#fb9f3a"
             ],
             [
              0.8888888888888888,
              "#fdca26"
             ],
             [
              1,
              "#f0f921"
             ]
            ],
            "type": "histogram2dcontour"
           }
          ],
          "mesh3d": [
           {
            "colorbar": {
             "outlinewidth": 0,
             "ticks": ""
            },
            "type": "mesh3d"
           }
          ],
          "parcoords": [
           {
            "line": {
             "colorbar": {
              "outlinewidth": 0,
              "ticks": ""
             }
            },
            "type": "parcoords"
           }
          ],
          "pie": [
           {
            "automargin": true,
            "type": "pie"
           }
          ],
          "scatter": [
           {
            "fillpattern": {
             "fillmode": "overlay",
             "size": 10,
             "solidity": 0.2
            },
            "type": "scatter"
           }
          ],
          "scatter3d": [
           {
            "line": {
             "colorbar": {
              "outlinewidth": 0,
              "ticks": ""
             }
            },
            "marker": {
             "colorbar": {
              "outlinewidth": 0,
              "ticks": ""
             }
            },
            "type": "scatter3d"
           }
          ],
          "scattercarpet": [
           {
            "marker": {
             "colorbar": {
              "outlinewidth": 0,
              "ticks": ""
             }
            },
            "type": "scattercarpet"
           }
          ],
          "scattergeo": [
           {
            "marker": {
             "colorbar": {
              "outlinewidth": 0,
              "ticks": ""
             }
            },
            "type": "scattergeo"
           }
          ],
          "scattergl": [
           {
            "marker": {
             "colorbar": {
              "outlinewidth": 0,
              "ticks": ""
             }
            },
            "type": "scattergl"
           }
          ],
          "scattermapbox": [
           {
            "marker": {
             "colorbar": {
              "outlinewidth": 0,
              "ticks": ""
             }
            },
            "type": "scattermapbox"
           }
          ],
          "scatterpolar": [
           {
            "marker": {
             "colorbar": {
              "outlinewidth": 0,
              "ticks": ""
             }
            },
            "type": "scatterpolar"
           }
          ],
          "scatterpolargl": [
           {
            "marker": {
             "colorbar": {
              "outlinewidth": 0,
              "ticks": ""
             }
            },
            "type": "scatterpolargl"
           }
          ],
          "scatterternary": [
           {
            "marker": {
             "colorbar": {
              "outlinewidth": 0,
              "ticks": ""
             }
            },
            "type": "scatterternary"
           }
          ],
          "surface": [
           {
            "colorbar": {
             "outlinewidth": 0,
             "ticks": ""
            },
            "colorscale": [
             [
              0,
              "#0d0887"
             ],
             [
              0.1111111111111111,
              "#46039f"
             ],
             [
              0.2222222222222222,
              "#7201a8"
             ],
             [
              0.3333333333333333,
              "#9c179e"
             ],
             [
              0.4444444444444444,
              "#bd3786"
             ],
             [
              0.5555555555555556,
              "#d8576b"
             ],
             [
              0.6666666666666666,
              "#ed7953"
             ],
             [
              0.7777777777777778,
              "#fb9f3a"
             ],
             [
              0.8888888888888888,
              "#fdca26"
             ],
             [
              1,
              "#f0f921"
             ]
            ],
            "type": "surface"
           }
          ],
          "table": [
           {
            "cells": {
             "fill": {
              "color": "#EBF0F8"
             },
             "line": {
              "color": "white"
             }
            },
            "header": {
             "fill": {
              "color": "#C8D4E3"
             },
             "line": {
              "color": "white"
             }
            },
            "type": "table"
           }
          ]
         },
         "layout": {
          "annotationdefaults": {
           "arrowcolor": "#2a3f5f",
           "arrowhead": 0,
           "arrowwidth": 1
          },
          "autotypenumbers": "strict",
          "coloraxis": {
           "colorbar": {
            "outlinewidth": 0,
            "ticks": ""
           }
          },
          "colorscale": {
           "diverging": [
            [
             0,
             "#8e0152"
            ],
            [
             0.1,
             "#c51b7d"
            ],
            [
             0.2,
             "#de77ae"
            ],
            [
             0.3,
             "#f1b6da"
            ],
            [
             0.4,
             "#fde0ef"
            ],
            [
             0.5,
             "#f7f7f7"
            ],
            [
             0.6,
             "#e6f5d0"
            ],
            [
             0.7,
             "#b8e186"
            ],
            [
             0.8,
             "#7fbc41"
            ],
            [
             0.9,
             "#4d9221"
            ],
            [
             1,
             "#276419"
            ]
           ],
           "sequential": [
            [
             0,
             "#0d0887"
            ],
            [
             0.1111111111111111,
             "#46039f"
            ],
            [
             0.2222222222222222,
             "#7201a8"
            ],
            [
             0.3333333333333333,
             "#9c179e"
            ],
            [
             0.4444444444444444,
             "#bd3786"
            ],
            [
             0.5555555555555556,
             "#d8576b"
            ],
            [
             0.6666666666666666,
             "#ed7953"
            ],
            [
             0.7777777777777778,
             "#fb9f3a"
            ],
            [
             0.8888888888888888,
             "#fdca26"
            ],
            [
             1,
             "#f0f921"
            ]
           ],
           "sequentialminus": [
            [
             0,
             "#0d0887"
            ],
            [
             0.1111111111111111,
             "#46039f"
            ],
            [
             0.2222222222222222,
             "#7201a8"
            ],
            [
             0.3333333333333333,
             "#9c179e"
            ],
            [
             0.4444444444444444,
             "#bd3786"
            ],
            [
             0.5555555555555556,
             "#d8576b"
            ],
            [
             0.6666666666666666,
             "#ed7953"
            ],
            [
             0.7777777777777778,
             "#fb9f3a"
            ],
            [
             0.8888888888888888,
             "#fdca26"
            ],
            [
             1,
             "#f0f921"
            ]
           ]
          },
          "colorway": [
           "#636efa",
           "#EF553B",
           "#00cc96",
           "#ab63fa",
           "#FFA15A",
           "#19d3f3",
           "#FF6692",
           "#B6E880",
           "#FF97FF",
           "#FECB52"
          ],
          "font": {
           "color": "#2a3f5f"
          },
          "geo": {
           "bgcolor": "white",
           "lakecolor": "white",
           "landcolor": "#E5ECF6",
           "showlakes": true,
           "showland": true,
           "subunitcolor": "white"
          },
          "hoverlabel": {
           "align": "left"
          },
          "hovermode": "closest",
          "mapbox": {
           "style": "light"
          },
          "paper_bgcolor": "white",
          "plot_bgcolor": "#E5ECF6",
          "polar": {
           "angularaxis": {
            "gridcolor": "white",
            "linecolor": "white",
            "ticks": ""
           },
           "bgcolor": "#E5ECF6",
           "radialaxis": {
            "gridcolor": "white",
            "linecolor": "white",
            "ticks": ""
           }
          },
          "scene": {
           "xaxis": {
            "backgroundcolor": "#E5ECF6",
            "gridcolor": "white",
            "gridwidth": 2,
            "linecolor": "white",
            "showbackground": true,
            "ticks": "",
            "zerolinecolor": "white"
           },
           "yaxis": {
            "backgroundcolor": "#E5ECF6",
            "gridcolor": "white",
            "gridwidth": 2,
            "linecolor": "white",
            "showbackground": true,
            "ticks": "",
            "zerolinecolor": "white"
           },
           "zaxis": {
            "backgroundcolor": "#E5ECF6",
            "gridcolor": "white",
            "gridwidth": 2,
            "linecolor": "white",
            "showbackground": true,
            "ticks": "",
            "zerolinecolor": "white"
           }
          },
          "shapedefaults": {
           "line": {
            "color": "#2a3f5f"
           }
          },
          "ternary": {
           "aaxis": {
            "gridcolor": "white",
            "linecolor": "white",
            "ticks": ""
           },
           "baxis": {
            "gridcolor": "white",
            "linecolor": "white",
            "ticks": ""
           },
           "bgcolor": "#E5ECF6",
           "caxis": {
            "gridcolor": "white",
            "linecolor": "white",
            "ticks": ""
           }
          },
          "title": {
           "x": 0.05
          },
          "xaxis": {
           "automargin": true,
           "gridcolor": "white",
           "linecolor": "white",
           "ticks": "",
           "title": {
            "standoff": 15
           },
           "zerolinecolor": "white",
           "zerolinewidth": 2
          },
          "yaxis": {
           "automargin": true,
           "gridcolor": "white",
           "linecolor": "white",
           "ticks": "",
           "title": {
            "standoff": 15
           },
           "zerolinecolor": "white",
           "zerolinewidth": 2
          }
         }
        },
        "title": {
         "text": "Daily Returns of GOOG"
        },
        "xaxis": {
         "anchor": "y",
         "domain": [
          0,
          1
         ],
         "title": {
          "text": "Date"
         }
        },
        "yaxis": {
         "anchor": "x",
         "domain": [
          0,
          1
         ],
         "title": {
          "text": "GOOG"
         }
        }
       }
      }
     },
     "metadata": {},
     "output_type": "display_data"
    },
    {
     "name": "stderr",
     "output_type": "stream",
     "text": [
      "/Users/MacBookAirSF/anaconda3/envs/digital_finance_env/lib/python3.11/site-packages/_plotly_utils/basevalidators.py:105: FutureWarning:\n",
      "\n",
      "The behavior of DatetimeProperties.to_pydatetime is deprecated, in a future version this will return a Series containing python datetime objects instead of an ndarray. To retain the old behavior, call `np.array` on the result\n",
      "\n"
     ]
    },
    {
     "data": {
      "application/vnd.plotly.v1+json": {
       "config": {
        "plotlyServerURL": "https://plot.ly"
       },
       "data": [
        {
         "hovertemplate": "Date=%{x}<br>AMZN=%{y}<extra></extra>",
         "legendgroup": "",
         "line": {
          "color": "#636efa",
          "dash": "solid"
         },
         "marker": {
          "symbol": "circle"
         },
         "mode": "lines",
         "name": "",
         "orientation": "v",
         "showlegend": false,
         "type": "scatter",
         "x": [
          "2017-01-04T00:00:00",
          "2017-01-05T00:00:00",
          "2017-01-06T00:00:00",
          "2017-01-09T00:00:00",
          "2017-01-10T00:00:00",
          "2017-01-11T00:00:00",
          "2017-01-12T00:00:00",
          "2017-01-13T00:00:00",
          "2017-01-17T00:00:00",
          "2017-01-18T00:00:00",
          "2017-01-19T00:00:00",
          "2017-01-20T00:00:00",
          "2017-01-23T00:00:00",
          "2017-01-24T00:00:00",
          "2017-01-25T00:00:00",
          "2017-01-26T00:00:00",
          "2017-01-27T00:00:00",
          "2017-01-30T00:00:00",
          "2017-01-31T00:00:00",
          "2017-02-01T00:00:00",
          "2017-02-02T00:00:00",
          "2017-02-03T00:00:00",
          "2017-02-06T00:00:00",
          "2017-02-07T00:00:00",
          "2017-02-08T00:00:00",
          "2017-02-09T00:00:00",
          "2017-02-10T00:00:00",
          "2017-02-13T00:00:00",
          "2017-02-14T00:00:00",
          "2017-02-15T00:00:00",
          "2017-02-16T00:00:00",
          "2017-02-17T00:00:00",
          "2017-02-21T00:00:00",
          "2017-02-22T00:00:00",
          "2017-02-23T00:00:00",
          "2017-02-24T00:00:00",
          "2017-02-27T00:00:00",
          "2017-02-28T00:00:00",
          "2017-03-01T00:00:00",
          "2017-03-02T00:00:00",
          "2017-03-03T00:00:00",
          "2017-03-06T00:00:00",
          "2017-03-07T00:00:00",
          "2017-03-08T00:00:00",
          "2017-03-09T00:00:00",
          "2017-03-10T00:00:00",
          "2017-03-13T00:00:00",
          "2017-03-14T00:00:00",
          "2017-03-15T00:00:00",
          "2017-03-16T00:00:00",
          "2017-03-17T00:00:00",
          "2017-03-20T00:00:00",
          "2017-03-21T00:00:00",
          "2017-03-22T00:00:00",
          "2017-03-23T00:00:00",
          "2017-03-24T00:00:00",
          "2017-03-27T00:00:00",
          "2017-03-28T00:00:00",
          "2017-03-29T00:00:00",
          "2017-03-30T00:00:00",
          "2017-03-31T00:00:00",
          "2017-04-03T00:00:00",
          "2017-04-04T00:00:00",
          "2017-04-05T00:00:00",
          "2017-04-06T00:00:00",
          "2017-04-07T00:00:00",
          "2017-04-10T00:00:00",
          "2017-04-11T00:00:00",
          "2017-04-12T00:00:00",
          "2017-04-13T00:00:00",
          "2017-04-17T00:00:00",
          "2017-04-18T00:00:00",
          "2017-04-19T00:00:00",
          "2017-04-20T00:00:00",
          "2017-04-21T00:00:00",
          "2017-04-24T00:00:00",
          "2017-04-25T00:00:00",
          "2017-04-26T00:00:00",
          "2017-04-27T00:00:00",
          "2017-04-28T00:00:00",
          "2017-05-01T00:00:00",
          "2017-05-02T00:00:00",
          "2017-05-03T00:00:00",
          "2017-05-04T00:00:00",
          "2017-05-05T00:00:00",
          "2017-05-08T00:00:00",
          "2017-05-09T00:00:00",
          "2017-05-10T00:00:00",
          "2017-05-11T00:00:00",
          "2017-05-12T00:00:00",
          "2017-05-15T00:00:00",
          "2017-05-16T00:00:00",
          "2017-05-17T00:00:00",
          "2017-05-18T00:00:00",
          "2017-05-19T00:00:00",
          "2017-05-22T00:00:00",
          "2017-05-23T00:00:00",
          "2017-05-24T00:00:00",
          "2017-05-25T00:00:00",
          "2017-05-26T00:00:00",
          "2017-05-30T00:00:00",
          "2017-05-31T00:00:00",
          "2017-06-01T00:00:00",
          "2017-06-02T00:00:00",
          "2017-06-05T00:00:00",
          "2017-06-06T00:00:00",
          "2017-06-07T00:00:00",
          "2017-06-08T00:00:00",
          "2017-06-09T00:00:00",
          "2017-06-12T00:00:00",
          "2017-06-13T00:00:00",
          "2017-06-14T00:00:00",
          "2017-06-15T00:00:00",
          "2017-06-16T00:00:00",
          "2017-06-19T00:00:00",
          "2017-06-20T00:00:00",
          "2017-06-21T00:00:00",
          "2017-06-22T00:00:00",
          "2017-06-23T00:00:00",
          "2017-06-26T00:00:00",
          "2017-06-27T00:00:00",
          "2017-06-28T00:00:00",
          "2017-06-29T00:00:00",
          "2017-06-30T00:00:00",
          "2017-07-03T00:00:00",
          "2017-07-05T00:00:00",
          "2017-07-06T00:00:00",
          "2017-07-07T00:00:00",
          "2017-07-10T00:00:00",
          "2017-07-11T00:00:00",
          "2017-07-12T00:00:00",
          "2017-07-13T00:00:00",
          "2017-07-14T00:00:00",
          "2017-07-17T00:00:00",
          "2017-07-18T00:00:00",
          "2017-07-19T00:00:00",
          "2017-07-20T00:00:00",
          "2017-07-21T00:00:00",
          "2017-07-24T00:00:00",
          "2017-07-25T00:00:00",
          "2017-07-26T00:00:00",
          "2017-07-27T00:00:00",
          "2017-07-28T00:00:00",
          "2017-07-31T00:00:00",
          "2017-08-01T00:00:00",
          "2017-08-02T00:00:00",
          "2017-08-03T00:00:00",
          "2017-08-04T00:00:00",
          "2017-08-07T00:00:00",
          "2017-08-08T00:00:00",
          "2017-08-09T00:00:00",
          "2017-08-10T00:00:00",
          "2017-08-11T00:00:00",
          "2017-08-14T00:00:00",
          "2017-08-15T00:00:00",
          "2017-08-16T00:00:00",
          "2017-08-17T00:00:00",
          "2017-08-18T00:00:00",
          "2017-08-21T00:00:00",
          "2017-08-22T00:00:00",
          "2017-08-23T00:00:00",
          "2017-08-24T00:00:00",
          "2017-08-25T00:00:00",
          "2017-08-28T00:00:00",
          "2017-08-29T00:00:00",
          "2017-08-30T00:00:00",
          "2017-08-31T00:00:00",
          "2017-09-01T00:00:00",
          "2017-09-05T00:00:00",
          "2017-09-06T00:00:00",
          "2017-09-07T00:00:00",
          "2017-09-08T00:00:00",
          "2017-09-11T00:00:00",
          "2017-09-12T00:00:00",
          "2017-09-13T00:00:00",
          "2017-09-14T00:00:00",
          "2017-09-15T00:00:00",
          "2017-09-18T00:00:00",
          "2017-09-19T00:00:00",
          "2017-09-20T00:00:00",
          "2017-09-21T00:00:00",
          "2017-09-22T00:00:00",
          "2017-09-25T00:00:00",
          "2017-09-26T00:00:00",
          "2017-09-27T00:00:00",
          "2017-09-28T00:00:00",
          "2017-09-29T00:00:00",
          "2017-10-02T00:00:00",
          "2017-10-03T00:00:00",
          "2017-10-04T00:00:00",
          "2017-10-05T00:00:00",
          "2017-10-06T00:00:00",
          "2017-10-09T00:00:00",
          "2017-10-10T00:00:00",
          "2017-10-11T00:00:00",
          "2017-10-12T00:00:00",
          "2017-10-13T00:00:00",
          "2017-10-16T00:00:00",
          "2017-10-17T00:00:00",
          "2017-10-18T00:00:00",
          "2017-10-19T00:00:00",
          "2017-10-20T00:00:00",
          "2017-10-23T00:00:00",
          "2017-10-24T00:00:00",
          "2017-10-25T00:00:00",
          "2017-10-26T00:00:00",
          "2017-10-27T00:00:00",
          "2017-10-30T00:00:00",
          "2017-10-31T00:00:00"
         ],
         "xaxis": "x",
         "y": [
          0.004657284610836365,
          0.03073239887913859,
          0.01991160088348276,
          0.0011683855384734265,
          -0.001279990502987438,
          0.003920142024267603,
          0.01829738902683742,
          0.004301638082535586,
          -0.009080412088530276,
          -0.002766376316502117,
          0.001931914448134897,
          -0.0008775727540912825,
          0.011814504334756615,
          0.005575405566935476,
          0.017119754327643122,
          0.0031439832513029398,
          -0.004027854767751027,
          -0.0064491599651470555,
          -0.008309477885662386,
          0.010771373223389613,
          0.009130799911785559,
          -0.03541884643413129,
          -0.003159673101806648,
          0.006017533324283564,
          0.008873854417067228,
          0.0020129181561270304,
          0.007426714212598773,
          0.010961226604057517,
          -0.00016735728527694782,
          0.007544288006336997,
          0.0017088504510958114,
          0.001101740442605026,
          0.013454428121802309,
          -0.0009691301880624392,
          -0.003997092731641838,
          -0.008155454539350404,
          0.004022482721395049,
          -0.004242088719402681,
          0.009514352875576781,
          -0.00488816785598345,
          0.001142643194159465,
          -0.003847553226356548,
          -0.0006969647787669064,
          0.005295450345943475,
          0.002939447278418772,
          -0.0006330697838242694,
          0.002498620827174447,
          -0.002410527652102701,
          0.0005160958454508702,
          0.0005276363750852386,
          -0.001300649824284017,
          0.005467444629579932,
          -0.01606822787173301,
          0.00576375786046146,
          -0.0008018394176448895,
          -0.002088814407849471,
          0.0014309457261052483,
          0.010840547887150054,
          0.021401878096712013,
          0.002310406725650971,
          0.011639279409916048,
          0.005606082655188249,
          0.017184301509601818,
          0.0027017495033232475,
          -0.012097466755439101,
          -0.003785055396937742,
          0.013588452441311683,
          -0.005159665583149842,
          -0.006793286071941518,
          -0.012898454814163851,
          0.01957786036312048,
          0.0019845104652858048,
          -0.005067607066505442,
          0.0031806396643336843,
          -0.003913314530636147,
          0.009882814370667736,
          0.00023146894751158165,
          0.0018399750444610952,
          0.00999677301508961,
          0.007197490485894464,
          0.025124568738659425,
          -0.0013604062874136291,
          -0.006241191801434343,
          -0.0037193127310027885,
          -0.003605190686853832,
          0.015939607113341525,
          0.003982954930507487,
          -0.004061638578303994,
          -0.00140150282073348,
          0.014488941596833227,
          -0.0035159417320134168,
          0.008455434019437602,
          -0.0220584873112859,
          0.014532803344671885,
          0.0014084877005076102,
          0.01128313229309863,
          0.0008962673682750832,
          0.009068122152297464,
          0.013291107520177148,
          0.002416049239541307,
          0.0009238510168030345,
          -0.0020868886016521815,
          0.0013372266549704914,
          0.010823789217132784,
          0.004579243496091179,
          -0.00824648102164205,
          0.007048860527522072,
          0.00019797283670675014,
          -0.031635098854680854,
          -0.013697130252466216,
          0.016457546404488266,
          -0.004404604411325286,
          -0.012596427099190954,
          0.024414822186134,
          0.007552768927631126,
          -0.0025924777666052057,
          0.009711934042506698,
          -0.0009279538602157134,
          0.002436865101283159,
          -0.009723612882453048,
          -0.017304182934144485,
          0.013872066463946231,
          -0.014540555710960135,
          -0.008125575079485081,
          -0.014814108389417546,
          0.018602039774678225,
          -0.006444301571102318,
          0.014111937258636909,
          0.01809436157060018,
          -0.0023483010247660197,
          0.012453089005661555,
          -0.0058419432575773644,
          0.001179219208357063,
          0.00821511113764739,
          0.014266780755591402,
          0.0023622115853150216,
          0.0017821758638392193,
          -0.002945478717979899,
          0.012947588238978236,
          0.0008855370482221403,
          0.012434239603503539,
          -0.006458969538946313,
          -0.02481836242119062,
          -0.03162619107383857,
          0.008514076201260101,
          -0.0003012116935388054,
          -0.009006974389444977,
          0.0006687663761180129,
          0.0047489228747330525,
          -0.00244889215886257,
          -0.00791041735602449,
          -0.02554958858013978,
          0.011568388608943936,
          0.015816260219888134,
          -0.0005695083374003262,
          -0.004640100861969199,
          -0.018002837643680936,
          -0.0021861924295710766,
          -0.005404423101813327,
          0.014276873008747692,
          -0.009204668188810716,
          -0.005793322416450586,
          -0.0075489710670970656,
          0.0008039734902636209,
          0.00849877250795239,
          0.014181544983208783,
          0.013445724293737582,
          -0.002396498227640098,
          -0.013268556723623925,
          0.0026210112293032495,
          0.0120582747635265,
          -0.013854454733169819,
          0.012485778315173057,
          0.004724177128713647,
          0.017321701984327253,
          -0.007392941375093831,
          -0.005462551407736771,
          -0.012768695723707313,
          -0.004444704451118442,
          0.0034540973363355043,
          -0.008795663989611846,
          -0.009899903985017278,
          -0.01602979609602828,
          -0.0012661942691253314,
          0.013072633363619968,
          0.005815741536933761,
          0.005175687471152379,
          -0.0022468758846300174,
          -0.002178918009798525,
          0.008724261753839224,
          0.015951120666370278,
          0.00890045477678969,
          0.0014248351833214823,
          -0.003824436235170703,
          0.007901122058873167,
          0.005959822304883788,
          0.0020080964130191337,
          0.0033900729019715747,
          0.0027724160936446474,
          -0.012020305032128142,
          -0.010421202279360164,
          -0.0037502431042488737,
          -0.016898832106748696,
          0.009934793664073016,
          -0.0030637973450112765,
          -0.000493407922726008,
          0.13216381132847022,
          0.008992214476522209,
          -0.005014171230441344
         ],
         "yaxis": "y"
        }
       ],
       "layout": {
        "legend": {
         "tracegroupgap": 0
        },
        "template": {
         "data": {
          "bar": [
           {
            "error_x": {
             "color": "#2a3f5f"
            },
            "error_y": {
             "color": "#2a3f5f"
            },
            "marker": {
             "line": {
              "color": "#E5ECF6",
              "width": 0.5
             },
             "pattern": {
              "fillmode": "overlay",
              "size": 10,
              "solidity": 0.2
             }
            },
            "type": "bar"
           }
          ],
          "barpolar": [
           {
            "marker": {
             "line": {
              "color": "#E5ECF6",
              "width": 0.5
             },
             "pattern": {
              "fillmode": "overlay",
              "size": 10,
              "solidity": 0.2
             }
            },
            "type": "barpolar"
           }
          ],
          "carpet": [
           {
            "aaxis": {
             "endlinecolor": "#2a3f5f",
             "gridcolor": "white",
             "linecolor": "white",
             "minorgridcolor": "white",
             "startlinecolor": "#2a3f5f"
            },
            "baxis": {
             "endlinecolor": "#2a3f5f",
             "gridcolor": "white",
             "linecolor": "white",
             "minorgridcolor": "white",
             "startlinecolor": "#2a3f5f"
            },
            "type": "carpet"
           }
          ],
          "choropleth": [
           {
            "colorbar": {
             "outlinewidth": 0,
             "ticks": ""
            },
            "type": "choropleth"
           }
          ],
          "contour": [
           {
            "colorbar": {
             "outlinewidth": 0,
             "ticks": ""
            },
            "colorscale": [
             [
              0,
              "#0d0887"
             ],
             [
              0.1111111111111111,
              "#46039f"
             ],
             [
              0.2222222222222222,
              "#7201a8"
             ],
             [
              0.3333333333333333,
              "#9c179e"
             ],
             [
              0.4444444444444444,
              "#bd3786"
             ],
             [
              0.5555555555555556,
              "#d8576b"
             ],
             [
              0.6666666666666666,
              "#ed7953"
             ],
             [
              0.7777777777777778,
              "#fb9f3a"
             ],
             [
              0.8888888888888888,
              "#fdca26"
             ],
             [
              1,
              "#f0f921"
             ]
            ],
            "type": "contour"
           }
          ],
          "contourcarpet": [
           {
            "colorbar": {
             "outlinewidth": 0,
             "ticks": ""
            },
            "type": "contourcarpet"
           }
          ],
          "heatmap": [
           {
            "colorbar": {
             "outlinewidth": 0,
             "ticks": ""
            },
            "colorscale": [
             [
              0,
              "#0d0887"
             ],
             [
              0.1111111111111111,
              "#46039f"
             ],
             [
              0.2222222222222222,
              "#7201a8"
             ],
             [
              0.3333333333333333,
              "#9c179e"
             ],
             [
              0.4444444444444444,
              "#bd3786"
             ],
             [
              0.5555555555555556,
              "#d8576b"
             ],
             [
              0.6666666666666666,
              "#ed7953"
             ],
             [
              0.7777777777777778,
              "#fb9f3a"
             ],
             [
              0.8888888888888888,
              "#fdca26"
             ],
             [
              1,
              "#f0f921"
             ]
            ],
            "type": "heatmap"
           }
          ],
          "heatmapgl": [
           {
            "colorbar": {
             "outlinewidth": 0,
             "ticks": ""
            },
            "colorscale": [
             [
              0,
              "#0d0887"
             ],
             [
              0.1111111111111111,
              "#46039f"
             ],
             [
              0.2222222222222222,
              "#7201a8"
             ],
             [
              0.3333333333333333,
              "#9c179e"
             ],
             [
              0.4444444444444444,
              "#bd3786"
             ],
             [
              0.5555555555555556,
              "#d8576b"
             ],
             [
              0.6666666666666666,
              "#ed7953"
             ],
             [
              0.7777777777777778,
              "#fb9f3a"
             ],
             [
              0.8888888888888888,
              "#fdca26"
             ],
             [
              1,
              "#f0f921"
             ]
            ],
            "type": "heatmapgl"
           }
          ],
          "histogram": [
           {
            "marker": {
             "pattern": {
              "fillmode": "overlay",
              "size": 10,
              "solidity": 0.2
             }
            },
            "type": "histogram"
           }
          ],
          "histogram2d": [
           {
            "colorbar": {
             "outlinewidth": 0,
             "ticks": ""
            },
            "colorscale": [
             [
              0,
              "#0d0887"
             ],
             [
              0.1111111111111111,
              "#46039f"
             ],
             [
              0.2222222222222222,
              "#7201a8"
             ],
             [
              0.3333333333333333,
              "#9c179e"
             ],
             [
              0.4444444444444444,
              "#bd3786"
             ],
             [
              0.5555555555555556,
              "#d8576b"
             ],
             [
              0.6666666666666666,
              "#ed7953"
             ],
             [
              0.7777777777777778,
              "#fb9f3a"
             ],
             [
              0.8888888888888888,
              "#fdca26"
             ],
             [
              1,
              "#f0f921"
             ]
            ],
            "type": "histogram2d"
           }
          ],
          "histogram2dcontour": [
           {
            "colorbar": {
             "outlinewidth": 0,
             "ticks": ""
            },
            "colorscale": [
             [
              0,
              "#0d0887"
             ],
             [
              0.1111111111111111,
              "#46039f"
             ],
             [
              0.2222222222222222,
              "#7201a8"
             ],
             [
              0.3333333333333333,
              "#9c179e"
             ],
             [
              0.4444444444444444,
              "#bd3786"
             ],
             [
              0.5555555555555556,
              "#d8576b"
             ],
             [
              0.6666666666666666,
              "#ed7953"
             ],
             [
              0.7777777777777778,
              "#fb9f3a"
             ],
             [
              0.8888888888888888,
              "#fdca26"
             ],
             [
              1,
              "#f0f921"
             ]
            ],
            "type": "histogram2dcontour"
           }
          ],
          "mesh3d": [
           {
            "colorbar": {
             "outlinewidth": 0,
             "ticks": ""
            },
            "type": "mesh3d"
           }
          ],
          "parcoords": [
           {
            "line": {
             "colorbar": {
              "outlinewidth": 0,
              "ticks": ""
             }
            },
            "type": "parcoords"
           }
          ],
          "pie": [
           {
            "automargin": true,
            "type": "pie"
           }
          ],
          "scatter": [
           {
            "fillpattern": {
             "fillmode": "overlay",
             "size": 10,
             "solidity": 0.2
            },
            "type": "scatter"
           }
          ],
          "scatter3d": [
           {
            "line": {
             "colorbar": {
              "outlinewidth": 0,
              "ticks": ""
             }
            },
            "marker": {
             "colorbar": {
              "outlinewidth": 0,
              "ticks": ""
             }
            },
            "type": "scatter3d"
           }
          ],
          "scattercarpet": [
           {
            "marker": {
             "colorbar": {
              "outlinewidth": 0,
              "ticks": ""
             }
            },
            "type": "scattercarpet"
           }
          ],
          "scattergeo": [
           {
            "marker": {
             "colorbar": {
              "outlinewidth": 0,
              "ticks": ""
             }
            },
            "type": "scattergeo"
           }
          ],
          "scattergl": [
           {
            "marker": {
             "colorbar": {
              "outlinewidth": 0,
              "ticks": ""
             }
            },
            "type": "scattergl"
           }
          ],
          "scattermapbox": [
           {
            "marker": {
             "colorbar": {
              "outlinewidth": 0,
              "ticks": ""
             }
            },
            "type": "scattermapbox"
           }
          ],
          "scatterpolar": [
           {
            "marker": {
             "colorbar": {
              "outlinewidth": 0,
              "ticks": ""
             }
            },
            "type": "scatterpolar"
           }
          ],
          "scatterpolargl": [
           {
            "marker": {
             "colorbar": {
              "outlinewidth": 0,
              "ticks": ""
             }
            },
            "type": "scatterpolargl"
           }
          ],
          "scatterternary": [
           {
            "marker": {
             "colorbar": {
              "outlinewidth": 0,
              "ticks": ""
             }
            },
            "type": "scatterternary"
           }
          ],
          "surface": [
           {
            "colorbar": {
             "outlinewidth": 0,
             "ticks": ""
            },
            "colorscale": [
             [
              0,
              "#0d0887"
             ],
             [
              0.1111111111111111,
              "#46039f"
             ],
             [
              0.2222222222222222,
              "#7201a8"
             ],
             [
              0.3333333333333333,
              "#9c179e"
             ],
             [
              0.4444444444444444,
              "#bd3786"
             ],
             [
              0.5555555555555556,
              "#d8576b"
             ],
             [
              0.6666666666666666,
              "#ed7953"
             ],
             [
              0.7777777777777778,
              "#fb9f3a"
             ],
             [
              0.8888888888888888,
              "#fdca26"
             ],
             [
              1,
              "#f0f921"
             ]
            ],
            "type": "surface"
           }
          ],
          "table": [
           {
            "cells": {
             "fill": {
              "color": "#EBF0F8"
             },
             "line": {
              "color": "white"
             }
            },
            "header": {
             "fill": {
              "color": "#C8D4E3"
             },
             "line": {
              "color": "white"
             }
            },
            "type": "table"
           }
          ]
         },
         "layout": {
          "annotationdefaults": {
           "arrowcolor": "#2a3f5f",
           "arrowhead": 0,
           "arrowwidth": 1
          },
          "autotypenumbers": "strict",
          "coloraxis": {
           "colorbar": {
            "outlinewidth": 0,
            "ticks": ""
           }
          },
          "colorscale": {
           "diverging": [
            [
             0,
             "#8e0152"
            ],
            [
             0.1,
             "#c51b7d"
            ],
            [
             0.2,
             "#de77ae"
            ],
            [
             0.3,
             "#f1b6da"
            ],
            [
             0.4,
             "#fde0ef"
            ],
            [
             0.5,
             "#f7f7f7"
            ],
            [
             0.6,
             "#e6f5d0"
            ],
            [
             0.7,
             "#b8e186"
            ],
            [
             0.8,
             "#7fbc41"
            ],
            [
             0.9,
             "#4d9221"
            ],
            [
             1,
             "#276419"
            ]
           ],
           "sequential": [
            [
             0,
             "#0d0887"
            ],
            [
             0.1111111111111111,
             "#46039f"
            ],
            [
             0.2222222222222222,
             "#7201a8"
            ],
            [
             0.3333333333333333,
             "#9c179e"
            ],
            [
             0.4444444444444444,
             "#bd3786"
            ],
            [
             0.5555555555555556,
             "#d8576b"
            ],
            [
             0.6666666666666666,
             "#ed7953"
            ],
            [
             0.7777777777777778,
             "#fb9f3a"
            ],
            [
             0.8888888888888888,
             "#fdca26"
            ],
            [
             1,
             "#f0f921"
            ]
           ],
           "sequentialminus": [
            [
             0,
             "#0d0887"
            ],
            [
             0.1111111111111111,
             "#46039f"
            ],
            [
             0.2222222222222222,
             "#7201a8"
            ],
            [
             0.3333333333333333,
             "#9c179e"
            ],
            [
             0.4444444444444444,
             "#bd3786"
            ],
            [
             0.5555555555555556,
             "#d8576b"
            ],
            [
             0.6666666666666666,
             "#ed7953"
            ],
            [
             0.7777777777777778,
             "#fb9f3a"
            ],
            [
             0.8888888888888888,
             "#fdca26"
            ],
            [
             1,
             "#f0f921"
            ]
           ]
          },
          "colorway": [
           "#636efa",
           "#EF553B",
           "#00cc96",
           "#ab63fa",
           "#FFA15A",
           "#19d3f3",
           "#FF6692",
           "#B6E880",
           "#FF97FF",
           "#FECB52"
          ],
          "font": {
           "color": "#2a3f5f"
          },
          "geo": {
           "bgcolor": "white",
           "lakecolor": "white",
           "landcolor": "#E5ECF6",
           "showlakes": true,
           "showland": true,
           "subunitcolor": "white"
          },
          "hoverlabel": {
           "align": "left"
          },
          "hovermode": "closest",
          "mapbox": {
           "style": "light"
          },
          "paper_bgcolor": "white",
          "plot_bgcolor": "#E5ECF6",
          "polar": {
           "angularaxis": {
            "gridcolor": "white",
            "linecolor": "white",
            "ticks": ""
           },
           "bgcolor": "#E5ECF6",
           "radialaxis": {
            "gridcolor": "white",
            "linecolor": "white",
            "ticks": ""
           }
          },
          "scene": {
           "xaxis": {
            "backgroundcolor": "#E5ECF6",
            "gridcolor": "white",
            "gridwidth": 2,
            "linecolor": "white",
            "showbackground": true,
            "ticks": "",
            "zerolinecolor": "white"
           },
           "yaxis": {
            "backgroundcolor": "#E5ECF6",
            "gridcolor": "white",
            "gridwidth": 2,
            "linecolor": "white",
            "showbackground": true,
            "ticks": "",
            "zerolinecolor": "white"
           },
           "zaxis": {
            "backgroundcolor": "#E5ECF6",
            "gridcolor": "white",
            "gridwidth": 2,
            "linecolor": "white",
            "showbackground": true,
            "ticks": "",
            "zerolinecolor": "white"
           }
          },
          "shapedefaults": {
           "line": {
            "color": "#2a3f5f"
           }
          },
          "ternary": {
           "aaxis": {
            "gridcolor": "white",
            "linecolor": "white",
            "ticks": ""
           },
           "baxis": {
            "gridcolor": "white",
            "linecolor": "white",
            "ticks": ""
           },
           "bgcolor": "#E5ECF6",
           "caxis": {
            "gridcolor": "white",
            "linecolor": "white",
            "ticks": ""
           }
          },
          "title": {
           "x": 0.05
          },
          "xaxis": {
           "automargin": true,
           "gridcolor": "white",
           "linecolor": "white",
           "ticks": "",
           "title": {
            "standoff": 15
           },
           "zerolinecolor": "white",
           "zerolinewidth": 2
          },
          "yaxis": {
           "automargin": true,
           "gridcolor": "white",
           "linecolor": "white",
           "ticks": "",
           "title": {
            "standoff": 15
           },
           "zerolinecolor": "white",
           "zerolinewidth": 2
          }
         }
        },
        "title": {
         "text": "Daily Returns of AMZN"
        },
        "xaxis": {
         "anchor": "y",
         "domain": [
          0,
          1
         ],
         "title": {
          "text": "Date"
         }
        },
        "yaxis": {
         "anchor": "x",
         "domain": [
          0,
          1
         ],
         "title": {
          "text": "AMZN"
         }
        }
       }
      }
     },
     "metadata": {},
     "output_type": "display_data"
    },
    {
     "name": "stderr",
     "output_type": "stream",
     "text": [
      "/Users/MacBookAirSF/anaconda3/envs/digital_finance_env/lib/python3.11/site-packages/_plotly_utils/basevalidators.py:105: FutureWarning:\n",
      "\n",
      "The behavior of DatetimeProperties.to_pydatetime is deprecated, in a future version this will return a Series containing python datetime objects instead of an ndarray. To retain the old behavior, call `np.array` on the result\n",
      "\n"
     ]
    },
    {
     "data": {
      "application/vnd.plotly.v1+json": {
       "config": {
        "plotlyServerURL": "https://plot.ly"
       },
       "data": [
        {
         "hovertemplate": "Date=%{x}<br>META=%{y}<extra></extra>",
         "legendgroup": "",
         "line": {
          "color": "#636efa",
          "dash": "solid"
         },
         "marker": {
          "symbol": "circle"
         },
         "mode": "lines",
         "name": "",
         "orientation": "v",
         "showlegend": false,
         "type": "scatter",
         "x": [
          "2017-01-04T00:00:00",
          "2017-01-05T00:00:00",
          "2017-01-06T00:00:00",
          "2017-01-09T00:00:00",
          "2017-01-10T00:00:00",
          "2017-01-11T00:00:00",
          "2017-01-12T00:00:00",
          "2017-01-13T00:00:00",
          "2017-01-17T00:00:00",
          "2017-01-18T00:00:00",
          "2017-01-19T00:00:00",
          "2017-01-20T00:00:00",
          "2017-01-23T00:00:00",
          "2017-01-24T00:00:00",
          "2017-01-25T00:00:00",
          "2017-01-26T00:00:00",
          "2017-01-27T00:00:00",
          "2017-01-30T00:00:00",
          "2017-01-31T00:00:00",
          "2017-02-01T00:00:00",
          "2017-02-02T00:00:00",
          "2017-02-03T00:00:00",
          "2017-02-06T00:00:00",
          "2017-02-07T00:00:00",
          "2017-02-08T00:00:00",
          "2017-02-09T00:00:00",
          "2017-02-10T00:00:00",
          "2017-02-13T00:00:00",
          "2017-02-14T00:00:00",
          "2017-02-15T00:00:00",
          "2017-02-16T00:00:00",
          "2017-02-17T00:00:00",
          "2017-02-21T00:00:00",
          "2017-02-22T00:00:00",
          "2017-02-23T00:00:00",
          "2017-02-24T00:00:00",
          "2017-02-27T00:00:00",
          "2017-02-28T00:00:00",
          "2017-03-01T00:00:00",
          "2017-03-02T00:00:00",
          "2017-03-03T00:00:00",
          "2017-03-06T00:00:00",
          "2017-03-07T00:00:00",
          "2017-03-08T00:00:00",
          "2017-03-09T00:00:00",
          "2017-03-10T00:00:00",
          "2017-03-13T00:00:00",
          "2017-03-14T00:00:00",
          "2017-03-15T00:00:00",
          "2017-03-16T00:00:00",
          "2017-03-17T00:00:00",
          "2017-03-20T00:00:00",
          "2017-03-21T00:00:00",
          "2017-03-22T00:00:00",
          "2017-03-23T00:00:00",
          "2017-03-24T00:00:00",
          "2017-03-27T00:00:00",
          "2017-03-28T00:00:00",
          "2017-03-29T00:00:00",
          "2017-03-30T00:00:00",
          "2017-03-31T00:00:00",
          "2017-04-03T00:00:00",
          "2017-04-04T00:00:00",
          "2017-04-05T00:00:00",
          "2017-04-06T00:00:00",
          "2017-04-07T00:00:00",
          "2017-04-10T00:00:00",
          "2017-04-11T00:00:00",
          "2017-04-12T00:00:00",
          "2017-04-13T00:00:00",
          "2017-04-17T00:00:00",
          "2017-04-18T00:00:00",
          "2017-04-19T00:00:00",
          "2017-04-20T00:00:00",
          "2017-04-21T00:00:00",
          "2017-04-24T00:00:00",
          "2017-04-25T00:00:00",
          "2017-04-26T00:00:00",
          "2017-04-27T00:00:00",
          "2017-04-28T00:00:00",
          "2017-05-01T00:00:00",
          "2017-05-02T00:00:00",
          "2017-05-03T00:00:00",
          "2017-05-04T00:00:00",
          "2017-05-05T00:00:00",
          "2017-05-08T00:00:00",
          "2017-05-09T00:00:00",
          "2017-05-10T00:00:00",
          "2017-05-11T00:00:00",
          "2017-05-12T00:00:00",
          "2017-05-15T00:00:00",
          "2017-05-16T00:00:00",
          "2017-05-17T00:00:00",
          "2017-05-18T00:00:00",
          "2017-05-19T00:00:00",
          "2017-05-22T00:00:00",
          "2017-05-23T00:00:00",
          "2017-05-24T00:00:00",
          "2017-05-25T00:00:00",
          "2017-05-26T00:00:00",
          "2017-05-30T00:00:00",
          "2017-05-31T00:00:00",
          "2017-06-01T00:00:00",
          "2017-06-02T00:00:00",
          "2017-06-05T00:00:00",
          "2017-06-06T00:00:00",
          "2017-06-07T00:00:00",
          "2017-06-08T00:00:00",
          "2017-06-09T00:00:00",
          "2017-06-12T00:00:00",
          "2017-06-13T00:00:00",
          "2017-06-14T00:00:00",
          "2017-06-15T00:00:00",
          "2017-06-16T00:00:00",
          "2017-06-19T00:00:00",
          "2017-06-20T00:00:00",
          "2017-06-21T00:00:00",
          "2017-06-22T00:00:00",
          "2017-06-23T00:00:00",
          "2017-06-26T00:00:00",
          "2017-06-27T00:00:00",
          "2017-06-28T00:00:00",
          "2017-06-29T00:00:00",
          "2017-06-30T00:00:00",
          "2017-07-03T00:00:00",
          "2017-07-05T00:00:00",
          "2017-07-06T00:00:00",
          "2017-07-07T00:00:00",
          "2017-07-10T00:00:00",
          "2017-07-11T00:00:00",
          "2017-07-12T00:00:00",
          "2017-07-13T00:00:00",
          "2017-07-14T00:00:00",
          "2017-07-17T00:00:00",
          "2017-07-18T00:00:00",
          "2017-07-19T00:00:00",
          "2017-07-20T00:00:00",
          "2017-07-21T00:00:00",
          "2017-07-24T00:00:00",
          "2017-07-25T00:00:00",
          "2017-07-26T00:00:00",
          "2017-07-27T00:00:00",
          "2017-07-28T00:00:00",
          "2017-07-31T00:00:00",
          "2017-08-01T00:00:00",
          "2017-08-02T00:00:00",
          "2017-08-03T00:00:00",
          "2017-08-04T00:00:00",
          "2017-08-07T00:00:00",
          "2017-08-08T00:00:00",
          "2017-08-09T00:00:00",
          "2017-08-10T00:00:00",
          "2017-08-11T00:00:00",
          "2017-08-14T00:00:00",
          "2017-08-15T00:00:00",
          "2017-08-16T00:00:00",
          "2017-08-17T00:00:00",
          "2017-08-18T00:00:00",
          "2017-08-21T00:00:00",
          "2017-08-22T00:00:00",
          "2017-08-23T00:00:00",
          "2017-08-24T00:00:00",
          "2017-08-25T00:00:00",
          "2017-08-28T00:00:00",
          "2017-08-29T00:00:00",
          "2017-08-30T00:00:00",
          "2017-08-31T00:00:00",
          "2017-09-01T00:00:00",
          "2017-09-05T00:00:00",
          "2017-09-06T00:00:00",
          "2017-09-07T00:00:00",
          "2017-09-08T00:00:00",
          "2017-09-11T00:00:00",
          "2017-09-12T00:00:00",
          "2017-09-13T00:00:00",
          "2017-09-14T00:00:00",
          "2017-09-15T00:00:00",
          "2017-09-18T00:00:00",
          "2017-09-19T00:00:00",
          "2017-09-20T00:00:00",
          "2017-09-21T00:00:00",
          "2017-09-22T00:00:00",
          "2017-09-25T00:00:00",
          "2017-09-26T00:00:00",
          "2017-09-27T00:00:00",
          "2017-09-28T00:00:00",
          "2017-09-29T00:00:00",
          "2017-10-02T00:00:00",
          "2017-10-03T00:00:00",
          "2017-10-04T00:00:00",
          "2017-10-05T00:00:00",
          "2017-10-06T00:00:00",
          "2017-10-09T00:00:00",
          "2017-10-10T00:00:00",
          "2017-10-11T00:00:00",
          "2017-10-12T00:00:00",
          "2017-10-13T00:00:00",
          "2017-10-16T00:00:00",
          "2017-10-17T00:00:00",
          "2017-10-18T00:00:00",
          "2017-10-19T00:00:00",
          "2017-10-20T00:00:00",
          "2017-10-23T00:00:00",
          "2017-10-24T00:00:00",
          "2017-10-25T00:00:00",
          "2017-10-26T00:00:00",
          "2017-10-27T00:00:00",
          "2017-10-30T00:00:00",
          "2017-10-31T00:00:00"
         ],
         "xaxis": "x",
         "y": [
          0.01565977940695462,
          0.016682076727705164,
          0.022706600934292664,
          0.012073558216958435,
          -0.004403547198066682,
          0.013992745356821601,
          0.0042033977641739995,
          0.013583901074074367,
          -0.003662097590148017,
          0.00039098632430900615,
          -0.0028923946410540635,
          -0.003998448639970009,
          0.014877139063550704,
          0.003412723698144715,
          0.016309814408203893,
          0.009887458883492517,
          -0.004518798832894522,
          -0.009078506693411703,
          -0.005038848868900603,
          0.0223295598509341,
          -0.017938898643636403,
          0.0010700045365859001,
          0.008245547917876461,
          -0.0016659187094525407,
          0.017900490563600657,
          -0.0004470757075865084,
          0.0003727676456339868,
          -0.0010432922505502207,
          -0.0014919578044692017,
          -0.003063157589939025,
          0.0029975561238468895,
          -0.0023161802680503607,
          0.0014229195172861253,
          0.017947905134424902,
          -0.005583268690111609,
          0.0005910300730935791,
          0.007161851766229521,
          -0.006377907430686669,
          0.01387048086127396,
          -0.004802821066101082,
          0.002997979515777738,
          0.0018225559767965915,
          -0.0008731998165214527,
          0.003058981497523927,
          0.00377580792805543,
          0.003978499501694044,
          0.00583624797583826,
          -0.0020057218270409516,
          0.0028710441821433452,
          0.001932466863025839,
          -0.0010715704649412183,
          0.0007151466399784034,
          -0.010218721663729169,
          0.007797284484055034,
          -0.00042981273850395407,
          0.005805185735541896,
          -0.0001424327646678547,
          0.010262165817095603,
          0.006278212642040648,
          -0.0016823711506721573,
          -0.0025279165865743636,
          0.0016191180753108991,
          -0.003865638575179964,
          0.0008467535426111006,
          -0.004793851993732501,
          -0.0027626223326978616,
          0.001846814242721706,
          -0.007940975400610895,
          -0.0024299338360489475,
          -0.001361244009985274,
          0.014563446360468468,
          -0.0032526620070282286,
          0.00929339880958513,
          0.010754190857875878,
          -0.0008345644883843706,
          0.01245830064148934,
          0.007011784312240588,
          0.00047779413478798993,
          0.007778380244532146,
          0.017264746814120713,
          0.014708863320247456,
          0.002098859053772939,
          -0.006414424239882033,
          -0.006258214289483699,
          -0.004043755954063255,
          0.005457880960121564,
          -0.0038395461434435063,
          -0.0012626425225999993,
          -0.0016634507363643136,
          0.0019328749526721367,
          -0.0009312804359955518,
          -0.002729899829846061,
          -0.03291489328321917,
          0.019399360995439707,
          0.0027088845087643865,
          0.001215776965679538,
          -0.0011467765963699694,
          0.013304422668126925,
          0.012796677643625465,
          0.0011187033524249212,
          0.0016433313085908452,
          -0.006037525524774989,
          0.00046211582151789443,
          0.013726666982187608,
          0.00013022766995285373,
          -0.0053375466911183,
          0.0020286471012793683,
          0.010384088606212316,
          -0.03302954164950944,
          -0.007754034858171832,
          0.015090206127281514,
          -0.0028536812893698027,
          -0.002994988008267474,
          0.0056074520746196566,
          0.01480347674305893,
          -0.00405570181847803,
          0.010903143921900726,
          -0.00331368821707434,
          0.010886659023345846,
          -0.009544147265265424,
          -0.019597594756198156,
          0.017665052661467007,
          -0.014356644010492414,
          -0.0003972296163976541,
          -0.01688967494978333,
          0.012868043901891335,
          -0.010110343559246115,
          0.017605126920062553,
          0.013602730621922632,
          0.011530972459028899,
          0.023378563303532163,
          0.0022655797619859364,
          0.004458161109861747,
          -0.0015003156300095188,
          0.019595598613497245,
          0.007859503711775906,
          0.0023760167606838856,
          -0.000607828993238968,
          0.009548180953303564,
          -0.004337356751223598,
          0.0019966229035091043,
          0.029164916449814893,
          0.011792973938303808,
          -0.018556085850222503,
          0.0036041394998616028,
          -0.0032968183008450502,
          -0.0041937785060176536,
          0.006109489303461002,
          0.013913457601039791,
          -0.004360972314409128,
          -0.00029202273553385893,
          -0.022082012741151846,
          0.004062174189748191,
          0.015885281650752647,
          0.0014641288433381305,
          -0.005847953216374324,
          -0.018176449046415466,
          0.0029956263197512545,
          0.0022101135481382705,
          0.011085949599977551,
          -0.005482154439562015,
          -0.005749518001906373,
          -0.008465471100769562,
          0.005531494278688376,
          0.004843324156831974,
          0.011127611325371767,
          0.01206451903159489,
          0.0002907661301556619,
          -0.007557278336644768,
          0.008024807330081929,
          0.006508282874139182,
          -0.013047801385738689,
          0.014975124915438398,
          -0.0031697758652575736,
          0.0005203303330088005,
          -0.012077412892420036,
          0.003977495607609294,
          -0.009496649316061534,
          0.014763895339835909,
          -0.002028785618175988,
          -0.006156691466962849,
          -0.0033312332545469836,
          -0.04497477700774011,
          0.00822749209094975,
          0.021131391632913443,
          0.00626194595432783,
          0.01268298135385515,
          -0.008193327889570168,
          0.002891399596592459,
          -0.009061005437088099,
          0.016743898318951178,
          0.005781302281110401,
          0.0015676959830392967,
          -0.005275383548460133,
          0.006702075760925297,
          -0.0010999330517780237,
          0.006896565751142392,
          0.004489459851706679,
          0.009110682437345696,
          -0.00045427193672942234,
          -0.008350856279594643,
          0.0024060390399829323,
          -0.021202374818061753,
          0.0030945219015334757,
          -0.0069848482358912944,
          0.00017584277973980988,
          0.042489596158537646,
          0.011187262085393002,
          0.0010563320540619703
         ],
         "yaxis": "y"
        }
       ],
       "layout": {
        "legend": {
         "tracegroupgap": 0
        },
        "template": {
         "data": {
          "bar": [
           {
            "error_x": {
             "color": "#2a3f5f"
            },
            "error_y": {
             "color": "#2a3f5f"
            },
            "marker": {
             "line": {
              "color": "#E5ECF6",
              "width": 0.5
             },
             "pattern": {
              "fillmode": "overlay",
              "size": 10,
              "solidity": 0.2
             }
            },
            "type": "bar"
           }
          ],
          "barpolar": [
           {
            "marker": {
             "line": {
              "color": "#E5ECF6",
              "width": 0.5
             },
             "pattern": {
              "fillmode": "overlay",
              "size": 10,
              "solidity": 0.2
             }
            },
            "type": "barpolar"
           }
          ],
          "carpet": [
           {
            "aaxis": {
             "endlinecolor": "#2a3f5f",
             "gridcolor": "white",
             "linecolor": "white",
             "minorgridcolor": "white",
             "startlinecolor": "#2a3f5f"
            },
            "baxis": {
             "endlinecolor": "#2a3f5f",
             "gridcolor": "white",
             "linecolor": "white",
             "minorgridcolor": "white",
             "startlinecolor": "#2a3f5f"
            },
            "type": "carpet"
           }
          ],
          "choropleth": [
           {
            "colorbar": {
             "outlinewidth": 0,
             "ticks": ""
            },
            "type": "choropleth"
           }
          ],
          "contour": [
           {
            "colorbar": {
             "outlinewidth": 0,
             "ticks": ""
            },
            "colorscale": [
             [
              0,
              "#0d0887"
             ],
             [
              0.1111111111111111,
              "#46039f"
             ],
             [
              0.2222222222222222,
              "#7201a8"
             ],
             [
              0.3333333333333333,
              "#9c179e"
             ],
             [
              0.4444444444444444,
              "#bd3786"
             ],
             [
              0.5555555555555556,
              "#d8576b"
             ],
             [
              0.6666666666666666,
              "#ed7953"
             ],
             [
              0.7777777777777778,
              "#fb9f3a"
             ],
             [
              0.8888888888888888,
              "#fdca26"
             ],
             [
              1,
              "#f0f921"
             ]
            ],
            "type": "contour"
           }
          ],
          "contourcarpet": [
           {
            "colorbar": {
             "outlinewidth": 0,
             "ticks": ""
            },
            "type": "contourcarpet"
           }
          ],
          "heatmap": [
           {
            "colorbar": {
             "outlinewidth": 0,
             "ticks": ""
            },
            "colorscale": [
             [
              0,
              "#0d0887"
             ],
             [
              0.1111111111111111,
              "#46039f"
             ],
             [
              0.2222222222222222,
              "#7201a8"
             ],
             [
              0.3333333333333333,
              "#9c179e"
             ],
             [
              0.4444444444444444,
              "#bd3786"
             ],
             [
              0.5555555555555556,
              "#d8576b"
             ],
             [
              0.6666666666666666,
              "#ed7953"
             ],
             [
              0.7777777777777778,
              "#fb9f3a"
             ],
             [
              0.8888888888888888,
              "#fdca26"
             ],
             [
              1,
              "#f0f921"
             ]
            ],
            "type": "heatmap"
           }
          ],
          "heatmapgl": [
           {
            "colorbar": {
             "outlinewidth": 0,
             "ticks": ""
            },
            "colorscale": [
             [
              0,
              "#0d0887"
             ],
             [
              0.1111111111111111,
              "#46039f"
             ],
             [
              0.2222222222222222,
              "#7201a8"
             ],
             [
              0.3333333333333333,
              "#9c179e"
             ],
             [
              0.4444444444444444,
              "#bd3786"
             ],
             [
              0.5555555555555556,
              "#d8576b"
             ],
             [
              0.6666666666666666,
              "#ed7953"
             ],
             [
              0.7777777777777778,
              "#fb9f3a"
             ],
             [
              0.8888888888888888,
              "#fdca26"
             ],
             [
              1,
              "#f0f921"
             ]
            ],
            "type": "heatmapgl"
           }
          ],
          "histogram": [
           {
            "marker": {
             "pattern": {
              "fillmode": "overlay",
              "size": 10,
              "solidity": 0.2
             }
            },
            "type": "histogram"
           }
          ],
          "histogram2d": [
           {
            "colorbar": {
             "outlinewidth": 0,
             "ticks": ""
            },
            "colorscale": [
             [
              0,
              "#0d0887"
             ],
             [
              0.1111111111111111,
              "#46039f"
             ],
             [
              0.2222222222222222,
              "#7201a8"
             ],
             [
              0.3333333333333333,
              "#9c179e"
             ],
             [
              0.4444444444444444,
              "#bd3786"
             ],
             [
              0.5555555555555556,
              "#d8576b"
             ],
             [
              0.6666666666666666,
              "#ed7953"
             ],
             [
              0.7777777777777778,
              "#fb9f3a"
             ],
             [
              0.8888888888888888,
              "#fdca26"
             ],
             [
              1,
              "#f0f921"
             ]
            ],
            "type": "histogram2d"
           }
          ],
          "histogram2dcontour": [
           {
            "colorbar": {
             "outlinewidth": 0,
             "ticks": ""
            },
            "colorscale": [
             [
              0,
              "#0d0887"
             ],
             [
              0.1111111111111111,
              "#46039f"
             ],
             [
              0.2222222222222222,
              "#7201a8"
             ],
             [
              0.3333333333333333,
              "#9c179e"
             ],
             [
              0.4444444444444444,
              "#bd3786"
             ],
             [
              0.5555555555555556,
              "#d8576b"
             ],
             [
              0.6666666666666666,
              "#ed7953"
             ],
             [
              0.7777777777777778,
              "#fb9f3a"
             ],
             [
              0.8888888888888888,
              "#fdca26"
             ],
             [
              1,
              "#f0f921"
             ]
            ],
            "type": "histogram2dcontour"
           }
          ],
          "mesh3d": [
           {
            "colorbar": {
             "outlinewidth": 0,
             "ticks": ""
            },
            "type": "mesh3d"
           }
          ],
          "parcoords": [
           {
            "line": {
             "colorbar": {
              "outlinewidth": 0,
              "ticks": ""
             }
            },
            "type": "parcoords"
           }
          ],
          "pie": [
           {
            "automargin": true,
            "type": "pie"
           }
          ],
          "scatter": [
           {
            "fillpattern": {
             "fillmode": "overlay",
             "size": 10,
             "solidity": 0.2
            },
            "type": "scatter"
           }
          ],
          "scatter3d": [
           {
            "line": {
             "colorbar": {
              "outlinewidth": 0,
              "ticks": ""
             }
            },
            "marker": {
             "colorbar": {
              "outlinewidth": 0,
              "ticks": ""
             }
            },
            "type": "scatter3d"
           }
          ],
          "scattercarpet": [
           {
            "marker": {
             "colorbar": {
              "outlinewidth": 0,
              "ticks": ""
             }
            },
            "type": "scattercarpet"
           }
          ],
          "scattergeo": [
           {
            "marker": {
             "colorbar": {
              "outlinewidth": 0,
              "ticks": ""
             }
            },
            "type": "scattergeo"
           }
          ],
          "scattergl": [
           {
            "marker": {
             "colorbar": {
              "outlinewidth": 0,
              "ticks": ""
             }
            },
            "type": "scattergl"
           }
          ],
          "scattermapbox": [
           {
            "marker": {
             "colorbar": {
              "outlinewidth": 0,
              "ticks": ""
             }
            },
            "type": "scattermapbox"
           }
          ],
          "scatterpolar": [
           {
            "marker": {
             "colorbar": {
              "outlinewidth": 0,
              "ticks": ""
             }
            },
            "type": "scatterpolar"
           }
          ],
          "scatterpolargl": [
           {
            "marker": {
             "colorbar": {
              "outlinewidth": 0,
              "ticks": ""
             }
            },
            "type": "scatterpolargl"
           }
          ],
          "scatterternary": [
           {
            "marker": {
             "colorbar": {
              "outlinewidth": 0,
              "ticks": ""
             }
            },
            "type": "scatterternary"
           }
          ],
          "surface": [
           {
            "colorbar": {
             "outlinewidth": 0,
             "ticks": ""
            },
            "colorscale": [
             [
              0,
              "#0d0887"
             ],
             [
              0.1111111111111111,
              "#46039f"
             ],
             [
              0.2222222222222222,
              "#7201a8"
             ],
             [
              0.3333333333333333,
              "#9c179e"
             ],
             [
              0.4444444444444444,
              "#bd3786"
             ],
             [
              0.5555555555555556,
              "#d8576b"
             ],
             [
              0.6666666666666666,
              "#ed7953"
             ],
             [
              0.7777777777777778,
              "#fb9f3a"
             ],
             [
              0.8888888888888888,
              "#fdca26"
             ],
             [
              1,
              "#f0f921"
             ]
            ],
            "type": "surface"
           }
          ],
          "table": [
           {
            "cells": {
             "fill": {
              "color": "#EBF0F8"
             },
             "line": {
              "color": "white"
             }
            },
            "header": {
             "fill": {
              "color": "#C8D4E3"
             },
             "line": {
              "color": "white"
             }
            },
            "type": "table"
           }
          ]
         },
         "layout": {
          "annotationdefaults": {
           "arrowcolor": "#2a3f5f",
           "arrowhead": 0,
           "arrowwidth": 1
          },
          "autotypenumbers": "strict",
          "coloraxis": {
           "colorbar": {
            "outlinewidth": 0,
            "ticks": ""
           }
          },
          "colorscale": {
           "diverging": [
            [
             0,
             "#8e0152"
            ],
            [
             0.1,
             "#c51b7d"
            ],
            [
             0.2,
             "#de77ae"
            ],
            [
             0.3,
             "#f1b6da"
            ],
            [
             0.4,
             "#fde0ef"
            ],
            [
             0.5,
             "#f7f7f7"
            ],
            [
             0.6,
             "#e6f5d0"
            ],
            [
             0.7,
             "#b8e186"
            ],
            [
             0.8,
             "#7fbc41"
            ],
            [
             0.9,
             "#4d9221"
            ],
            [
             1,
             "#276419"
            ]
           ],
           "sequential": [
            [
             0,
             "#0d0887"
            ],
            [
             0.1111111111111111,
             "#46039f"
            ],
            [
             0.2222222222222222,
             "#7201a8"
            ],
            [
             0.3333333333333333,
             "#9c179e"
            ],
            [
             0.4444444444444444,
             "#bd3786"
            ],
            [
             0.5555555555555556,
             "#d8576b"
            ],
            [
             0.6666666666666666,
             "#ed7953"
            ],
            [
             0.7777777777777778,
             "#fb9f3a"
            ],
            [
             0.8888888888888888,
             "#fdca26"
            ],
            [
             1,
             "#f0f921"
            ]
           ],
           "sequentialminus": [
            [
             0,
             "#0d0887"
            ],
            [
             0.1111111111111111,
             "#46039f"
            ],
            [
             0.2222222222222222,
             "#7201a8"
            ],
            [
             0.3333333333333333,
             "#9c179e"
            ],
            [
             0.4444444444444444,
             "#bd3786"
            ],
            [
             0.5555555555555556,
             "#d8576b"
            ],
            [
             0.6666666666666666,
             "#ed7953"
            ],
            [
             0.7777777777777778,
             "#fb9f3a"
            ],
            [
             0.8888888888888888,
             "#fdca26"
            ],
            [
             1,
             "#f0f921"
            ]
           ]
          },
          "colorway": [
           "#636efa",
           "#EF553B",
           "#00cc96",
           "#ab63fa",
           "#FFA15A",
           "#19d3f3",
           "#FF6692",
           "#B6E880",
           "#FF97FF",
           "#FECB52"
          ],
          "font": {
           "color": "#2a3f5f"
          },
          "geo": {
           "bgcolor": "white",
           "lakecolor": "white",
           "landcolor": "#E5ECF6",
           "showlakes": true,
           "showland": true,
           "subunitcolor": "white"
          },
          "hoverlabel": {
           "align": "left"
          },
          "hovermode": "closest",
          "mapbox": {
           "style": "light"
          },
          "paper_bgcolor": "white",
          "plot_bgcolor": "#E5ECF6",
          "polar": {
           "angularaxis": {
            "gridcolor": "white",
            "linecolor": "white",
            "ticks": ""
           },
           "bgcolor": "#E5ECF6",
           "radialaxis": {
            "gridcolor": "white",
            "linecolor": "white",
            "ticks": ""
           }
          },
          "scene": {
           "xaxis": {
            "backgroundcolor": "#E5ECF6",
            "gridcolor": "white",
            "gridwidth": 2,
            "linecolor": "white",
            "showbackground": true,
            "ticks": "",
            "zerolinecolor": "white"
           },
           "yaxis": {
            "backgroundcolor": "#E5ECF6",
            "gridcolor": "white",
            "gridwidth": 2,
            "linecolor": "white",
            "showbackground": true,
            "ticks": "",
            "zerolinecolor": "white"
           },
           "zaxis": {
            "backgroundcolor": "#E5ECF6",
            "gridcolor": "white",
            "gridwidth": 2,
            "linecolor": "white",
            "showbackground": true,
            "ticks": "",
            "zerolinecolor": "white"
           }
          },
          "shapedefaults": {
           "line": {
            "color": "#2a3f5f"
           }
          },
          "ternary": {
           "aaxis": {
            "gridcolor": "white",
            "linecolor": "white",
            "ticks": ""
           },
           "baxis": {
            "gridcolor": "white",
            "linecolor": "white",
            "ticks": ""
           },
           "bgcolor": "#E5ECF6",
           "caxis": {
            "gridcolor": "white",
            "linecolor": "white",
            "ticks": ""
           }
          },
          "title": {
           "x": 0.05
          },
          "xaxis": {
           "automargin": true,
           "gridcolor": "white",
           "linecolor": "white",
           "ticks": "",
           "title": {
            "standoff": 15
           },
           "zerolinecolor": "white",
           "zerolinewidth": 2
          },
          "yaxis": {
           "automargin": true,
           "gridcolor": "white",
           "linecolor": "white",
           "ticks": "",
           "title": {
            "standoff": 15
           },
           "zerolinecolor": "white",
           "zerolinewidth": 2
          }
         }
        },
        "title": {
         "text": "Daily Returns of META"
        },
        "xaxis": {
         "anchor": "y",
         "domain": [
          0,
          1
         ],
         "title": {
          "text": "Date"
         }
        },
        "yaxis": {
         "anchor": "x",
         "domain": [
          0,
          1
         ],
         "title": {
          "text": "META"
         }
        }
       }
      }
     },
     "metadata": {},
     "output_type": "display_data"
    }
   ],
   "source": [
    "# Solution\n",
    "import plotly.express as px\n",
    "#We start by defining the tickers and date ranges\n",
    "tickers=['AAPL','GOOG', 'AMZN', 'META']\n",
    "start_date='2017-01-01'\n",
    "end_date='2017-11-1'\n",
    "\n",
    "#Then we fetch the data from yfinance for the adjusted daily closing price\n",
    "data=yf.download(tickers, start=start_date, end=end_date)\n",
    "\n",
    "# Ensure the data are sorted by Date\n",
    "data = data.sort_values(by='Date')\n",
    "\n",
    "#Calculating daily returns and dropping NA values\n",
    "daily_returns= data['Adj Close'].pct_change().dropna()\n",
    "\n",
    "#Check by viewing the first rows\n",
    "print(daily_returns.head())\n",
    "\n",
    "# Loop through each ticker and plot its daily returns\n",
    "for ticker in tickers:\n",
    "    fig = px.line(daily_returns, x=daily_returns.index, y=ticker, \n",
    "                  title=f\"Daily Returns of {ticker}\")\n",
    "    fig.show()\n"
   ]
  },
  {
   "cell_type": "markdown",
   "metadata": {},
   "source": [
    "4 b) Based on a.), find the covariance matrix of these stocks. **\\[1 mark\\]**"
   ]
  },
  {
   "cell_type": "code",
   "execution_count": 18,
   "metadata": {},
   "outputs": [
    {
     "name": "stdout",
     "output_type": "stream",
     "text": [
      "Covariance Matrix\n",
      "          AAPL      AMZN      GOOG      META\n",
      "AAPL  0.000125  0.000078  0.000054  0.000067\n",
      "AMZN  0.000078  0.000189  0.000091  0.000095\n",
      "GOOG  0.000054  0.000091  0.000098  0.000074\n",
      "META  0.000067  0.000095  0.000074  0.000111\n",
      "Annualized Covariance\n",
      "          AAPL      AMZN      GOOG      META\n",
      "AAPL  0.031625  0.019769  0.013679  0.016948\n",
      "AMZN  0.019769  0.047667  0.022915  0.023851\n",
      "GOOG  0.013679  0.022915  0.024766  0.018606\n",
      "META  0.016948  0.023851  0.018606  0.027942\n"
     ]
    }
   ],
   "source": [
    "# Solution\n",
    "#Calculating the covariance of these stocks\n",
    "cov=daily_returns.cov()\n",
    "\n",
    "#Annualizing the covariance\n",
    "annualized_cov=cov*252\n",
    "\n",
    "print(\"Covariance Matrix\")\n",
    "print(cov)\n",
    "print(\"Annualized Covariance\")\n",
    "print(annualized_cov)"
   ]
  },
  {
   "cell_type": "markdown",
   "metadata": {},
   "source": [
    "4 c.) Suppose that the four stocks are equally weighted, find the annualised portfolio expected returns and portfolio variance. **\\[2 marks\\]**"
   ]
  },
  {
   "cell_type": "code",
   "execution_count": 19,
   "metadata": {},
   "outputs": [
    {
     "name": "stdout",
     "output_type": "stream",
     "text": [
      "Annualized Portfolio Expected Return: 0.45667511473855804\n",
      "Annualized Portfolio Variance: 0.022720993493660795\n"
     ]
    }
   ],
   "source": [
    "# Solution\n",
    "#First we determine the annualized mean returns\n",
    "annual_mean_returns=daily_returns.mean()*252\n",
    "\n",
    "#Define the weights of the portfolio (equally weighted at 25%)\n",
    "weights=[0.25, 0.25, 0.25, 0.25]\n",
    "\n",
    "#Portfolio expected annual returns\n",
    "port_expected_return=sum(weights*annual_mean_returns)\n",
    "\n",
    "#We can annualize the portfolio variance\n",
    "port_variance= np.dot(weights, np.dot(annualized_cov, weights))\n",
    "\n",
    "print(\"Annualized Portfolio Expected Return:\", port_expected_return)\n",
    "print(\"Annualized Portfolio Variance:\", port_variance)"
   ]
  },
  {
   "cell_type": "markdown",
   "metadata": {},
   "source": [
    "4 d.) Find the efficient portfolio with the maximum Sharpe ratio. What is the corresponding Sharpe ratio? **\\[2 marks\\]**"
   ]
  },
  {
   "cell_type": "code",
   "execution_count": 23,
   "metadata": {},
   "outputs": [
    {
     "name": "stdout",
     "output_type": "stream",
     "text": [
      "Expected annual return: 51.8%\n",
      "Annual volatility: 15.3%\n",
      "Sharpe Ratio: 3.25\n",
      "Optimal Portfolio Weights: OrderedDict([('AAPL', 0.33235), ('AMZN', 0.0), ('GOOG', 0.0), ('META', 0.66765)])\n",
      "Expected Annual Return: 0.5183\n",
      "Annual Volatility - Standard Deviation: 0.1532\n",
      "Sharpe Ratio: 3.2529\n"
     ]
    }
   ],
   "source": [
    "# Solution\n",
    "#Efficient Frontier\n",
    "ef=EfficientFrontier(annual_mean_returns, annualized_cov)\n",
    "\n",
    "#Finding optimal portfolio\n",
    "optimal_weights=ef.max_sharpe()\n",
    "\n",
    "#Metrics\n",
    "cleaned_weights=ef.clean_weights()\n",
    "expected_return, volatility, sharpe_ratio = ef.portfolio_performance(verbose=True)\n",
    "\n",
    "#Displayng results\n",
    "print(\"Optimal Portfolio Weights:\", cleaned_weights)\n",
    "print(f\"Expected Annual Return: {expected_return:.4f}\")\n",
    "print(f\"Annual Volatility - Standard Deviation: {volatility:.4f}\")\n",
    "print(f\"Sharpe Ratio: {sharpe_ratio:.4f}\")"
   ]
  },
  {
   "cell_type": "markdown",
   "metadata": {},
   "source": [
    "4 e.) Plot the efficient frontier (Without the use of the Plotly library in Python). **\\[3 mark\\]**"
   ]
  },
  {
   "cell_type": "code",
   "execution_count": 30,
   "metadata": {},
   "outputs": [
    {
     "data": {
      "image/png": "[encoded data removed]",
      "text/plain": [
       "<Figure size 640x480 with 2 Axes>"
      ]
     },
     "metadata": {},
     "output_type": "display_data"
    }
   ],
   "source": [
    "# Solution\n",
    "\n",
    "# Setting up a range of volatilities\n",
    "volatility_range = np.linspace(0.142, 0.30, 100)\n",
    "\n",
    "# Expected returns and Sharpe ratios for given risk\n",
    "expected_returns = []\n",
    "sharpe_ratios = []\n",
    "for v in volatility_range:\n",
    "    # Create a new instance of EfficientFrontier for each iteration\n",
    "    ef = EfficientFrontier(annual_mean_returns, annualized_cov)\n",
    "    ef.efficient_risk(target_volatility=v)\n",
    "    ret, vol, sharpe = ef.portfolio_performance()\n",
    "    expected_returns.append(ret)\n",
    "    sharpe_ratios.append(sharpe)\n",
    "\n",
    "# Efficient Frontier plot\n",
    "plt.scatter(volatility_range, expected_returns, c=sharpe_ratios, cmap='viridis')\n",
    "plt.colorbar(label='Sharpe Ratio')\n",
    "plt.plot(volatility_range, expected_returns, 'b--')\n",
    "plt.title('Efficient Frontier')\n",
    "plt.xlabel('Volatility (Standard Deviation)')\n",
    "plt.ylabel('Expected Return')\n",
    "plt.grid()\n",
    "plt.show()\n"
   ]
  },
  {
   "cell_type": "markdown",
   "metadata": {},
   "source": [
    "4 f.) Based on the concept of diversification, comment on the current portfolio. How can this portfolio be improved? (Answers should be no longer than 200 words) **\\[4 marks\\]**"
   ]
  },
  {
   "cell_type": "code",
   "execution_count": null,
   "metadata": {},
   "outputs": [],
   "source": [
    "# Solution"
   ]
  },
  {
   "cell_type": "markdown",
   "metadata": {},
   "source": [
    "Diversification refers to the financial concept reducing exposure to risks related to investing only in the same type of asset, whether investing only in industry-specific, location-specific, or class-specific assets.\n",
    "This portfolio is made of stocks from large technological companies all based in the United-States. This portfolio is therefore exposed to the following risks:\n",
    "-Industry-related risks: breakthroughs and competition often occur in the technological industry\n",
    "-Location-related risks: policies and regulations specific to the US could jeopardize the whole portfolio\n",
    "-Class-related risk: investing only in stocks could expose the portfolio to economic downturns and crisis, considering the investments are not covered by any specific strategies (options, bonds, futures, etc...)\n",
    "\n",
    "Improving the portoflio with diversification would therefore mitigate these risks. Investing in different sectors, such as housing, healthcare, or agriculture would lower the industry-specific risks. Diversifying the investments in different countries such as China, Europe, or India would be efficient to be protected towards country-specifi economic downturns. Finally, investing in different classes of assets and implementing strategies through diversification would improve profits."
   ]
  },
  {
   "cell_type": "markdown",
   "metadata": {},
   "source": [
    "## Question 5 \\[14 marks\\]\n",
    "A high-profile client Pam, whom you’ve built a great business relationship with over the years has asked you to quickly double-check some figures for life insurance he has received. You decide to apply the [2015 VBT Unismoke ANB/ALB](http://www.soa.org/files/research/exp-study/2015-vbt-smoker-distinct-alb-anb.xlsx), the Valuation Basic Table (VBT) to using the Age Nearest Birthday (ANB) method, with a valuation interest rate of 5.2% you submit your calculated figures to aid Pam's decision.\n",
    "\n",
    "Today is 11 November 2023, and the type of life insurance Pam was viewing was permanent life insurance. Pam was born on 25 March 1980, with the health condition standard for her cohort of the same age and gender (Female)."
   ]
  },
  {
   "cell_type": "markdown",
   "metadata": {},
   "source": [
    "5 a.) Calculate Pam’s annual unconditional survival rates $_{n}p_{x}$ from now to age 54. **\\[4 marks\\]**"
   ]
  },
  {
   "cell_type": "code",
   "execution_count": 44,
   "metadata": {},
   "outputs": [
    {
     "name": "stdout",
     "output_type": "stream",
     "text": [
      "43    0.99984\n",
      "44    0.99975\n",
      "45    0.99965\n",
      "46    0.99949\n",
      "47    0.99937\n",
      "48    0.99929\n",
      "49    0.99924\n",
      "50    0.99914\n",
      "51    0.99900\n",
      "52    0.99883\n",
      "53    0.99869\n",
      "Name: 43, dtype: float64\n"
     ]
    }
   ],
   "source": [
    "# Solution\n",
    "from datetime import datetime\n",
    "\n",
    "# Loading the VBT table\n",
    "vbt_table = pd.read_excel('2015-vbt-smoker-distinct-alb-anb.xlsx',sheet_name='2015 FNS ANB', header=2, index_col=0)\n",
    "\n",
    "# Calculating Pam's current age with ANB\n",
    "today = datetime(2023, 11, 11)\n",
    "birthday = datetime(1980, 3, 25)\n",
    "current_age_ANB = today.year - birthday.year - ((today.month, today.day) < (birthday.month, birthday.day))\n",
    "\n",
    "# Correcting the age if today is before her birthday\n",
    "current_age_ANB += ((today.month, today.day) < (birthday.month, birthday.day))\n",
    "\n",
    "# Calculate the duration from current age to age 54\n",
    "duration_to_54 = 54 - current_age_ANB\n",
    "\n",
    "# Extract mortality rates for Pam's current age to age 54\n",
    "mortality_rates = vbt_table.loc[current_age_ANB].iloc[:duration_to_54]\n",
    "\n",
    "# Calculate npx values\n",
    "npx_values = 1 - mortality_rates / 1000  # Adjusting as rates are per 1000\n",
    "\n",
    "# Convert the index to represent the ages\n",
    "npx_values.index = range(current_age_ANB, 54)\n",
    "\n",
    "print(npx_values)\n"
   ]
  },
  {
   "cell_type": "markdown",
   "metadata": {},
   "source": [
    "5 b.) Calculate Pam’s life expectancy in years (to one decimal place). **\\[3 marks\\]**"
   ]
  },
  {
   "cell_type": "code",
   "execution_count": 60,
   "metadata": {},
   "outputs": [
    {
     "name": "stdout",
     "output_type": "stream",
     "text": [
      "Pam's life expectancy: 10.5 years\n"
     ]
    }
   ],
   "source": [
    "# Solution\n",
    "\n",
    "# Calculating the average number of survivors during each year interval (Lx)\n",
    "Lx_values = npx_values.shift(-1).fillna(0) + npx_values\n",
    "Lx_values = Lx_values / 2\n",
    "\n",
    "# Calculating Tx as the total number of person-years lived beyond each age\n",
    "Tx_values = Lx_values[::-1].cumsum()[::-1]\n",
    "\n",
    "# Calculating life expectancy at current age\n",
    "life_expectancy = Tx_values[current_age_ANB] / npx_values[current_age_ANB]\n",
    "\n",
    "# Rounding to one decimal place\n",
    "life_expectancy = round(life_expectancy, 1)\n",
    "\n",
    "print(f\"Pam's life expectancy: {life_expectancy} years\")\n",
    "\n"
   ]
  },
  {
   "cell_type": "markdown",
   "metadata": {},
   "source": [
    "5 c.) Calculate the probability that Pam dies exactly between 6 and 9 years from now (to five decimal places). **\\[3 marks\\]**"
   ]
  },
  {
   "cell_type": "code",
   "execution_count": 61,
   "metadata": {},
   "outputs": [
    {
     "name": "stdout",
     "output_type": "stream",
     "text": [
      "Probability of Pam dying between 6 and 9 years from now: 0.00041\n"
     ]
    }
   ],
   "source": [
    "# Solution\n",
    "\n",
    "# Calculate the probability that Pam survives between +6 years and +9 years\n",
    "prob_survive_6_years = npx_values.iloc[6] \n",
    "prob_survive_9_years = npx_values.iloc[9] \n",
    "\n",
    "# Probability of dying between 6 and 9 years from now\n",
    "probability_dying_between = prob_survive_6_years - prob_survive_9_years\n",
    "\n",
    "# Output the probability rounded to five decimal places\n",
    "print(f\"Probability of Pam dying between 6 and 9 years from now: {probability_dying_between:.5f}\")\n"
   ]
  },
  {
   "cell_type": "markdown",
   "metadata": {},
   "source": [
    "5 d.) Calculate the minimum annual premium rate (premium as a fraction of death benefit) that your company should charge for Pam's cohort (to five decimal places). **\\[4 marks\\]**"
   ]
  },
  {
   "cell_type": "code",
   "execution_count": 67,
   "metadata": {},
   "outputs": [
    {
     "name": "stdout",
     "output_type": "stream",
     "text": [
      "Minimum annual premium rate: 0.00065\n"
     ]
    }
   ],
   "source": [
    "# Solution\n",
    "\n",
    "# Setting the annual discount rate\n",
    "annual_discount_rate = 0.052\n",
    "\n",
    "# Calculate qx values (probability of dying within the year)\n",
    "qx_values = 1 - npx_values\n",
    "\n",
    "# Calculate px values (probability of surviving the year interval)\n",
    "px_values = npx_values.shift(-1).fillna(0)\n",
    "\n",
    "# Calculate the discount factors for each year\n",
    "discount_factors = [(1 / (1 + annual_discount_rate)) ** t for t in range(1, len(qx_values) + 1)]\n",
    "\n",
    "# Calculate the expected PV of the death benefits\n",
    "expected_death_benefits = sum(qx_values * discount_factors)\n",
    "\n",
    "# Calculate the expected PV of the premiums assuming premiums are paid until death or end of term\n",
    "premium_payment_years = np.minimum(np.arange(1, len(px_values) + 1), 54 - current_age_ANB)\n",
    "expected_premiums = sum(discount_factors[:len(premium_payment_years)])\n",
    "\n",
    "# Calculate the minimum annual premium rate\n",
    "annual_premium_rate = expected_death_benefits / expected_premiums\n",
    "\n",
    "# Output of the annual premium rate rounded to five decimal places\n",
    "annual_premium_rate = round(annual_premium_rate, 5)\n",
    "\n",
    "print(f\"Minimum annual premium rate: {annual_premium_rate}\")\n",
    "\n"
   ]
  },
  {
   "cell_type": "markdown",
   "metadata": {},
   "source": [
    "## Question 6 \\[8 marks\\]\n",
    "The conglomerate you are working for, Accretion, decided to digitalize the financial analysis in order to optimize their operations. Since you have expertise in a multitude of financial instruments, you have been tasked to perform the innovation.\n",
    "\n",
    "Firstly, you are asked to design a tool for computing the zero spot rates using the bootstrap method, and then verify its validity by applying it to Exhibit 6 below.\n",
    "\n",
    "### Exhibit 6: Spot Rate Table\n",
    "| Principal | Maturity (Years) | Coupon (per Year) | Price | Coupon Frequency | Zero Rate (Continuous) |\n",
    "| --- | --- | --- | --- | --- | --- |\n",
    "| 100 | 0.5 | 0 | 99.8 | 0.5 (SA) | 0.4% |\n",
    "| 100 | 1 | 4 | 101.2 | 1 (A) | 2.729% |\n",
    "| 100 | 1.5 | 5 | 102.4 | 0.5 (SA) | 3.353% |\n",
    "\n",
    "- SA: Semi-annual coupon\n",
    "- A: Annual coupon"
   ]
  },
  {
   "cell_type": "markdown",
   "metadata": {},
   "source": [
    "6 a.) Design a function that take in the required parameters for the bootstrap method in form of a Pandas DataFrame and returns the same DataFrame but with a new column called \"Zero Rates\". Then, check that your function gives the correct spot rates in the table above. **\\[4 mark\\]**"
   ]
  },
  {
   "cell_type": "code",
   "execution_count": 75,
   "metadata": {},
   "outputs": [
    {
     "data": {
      "text/html": [
       "<div>\n",
       "<style scoped>\n",
       "    .dataframe tbody tr th:only-of-type {\n",
       "        vertical-align: middle;\n",
       "    }\n",
       "\n",
       "    .dataframe tbody tr th {\n",
       "        vertical-align: top;\n",
       "    }\n",
       "\n",
       "    .dataframe thead th {\n",
       "        text-align: right;\n",
       "    }\n",
       "</style>\n",
       "<table border=\"1\" class=\"dataframe\">\n",
       "  <thead>\n",
       "    <tr style=\"text-align: right;\">\n",
       "      <th></th>\n",
       "      <th>Principal</th>\n",
       "      <th>Maturity</th>\n",
       "      <th>Coupon</th>\n",
       "      <th>Price</th>\n",
       "      <th>Coupon Frequency</th>\n",
       "      <th>Zero Rates</th>\n",
       "    </tr>\n",
       "  </thead>\n",
       "  <tbody>\n",
       "    <tr>\n",
       "      <th>0</th>\n",
       "      <td>100</td>\n",
       "      <td>0.5</td>\n",
       "      <td>0</td>\n",
       "      <td>99.8</td>\n",
       "      <td>0.5</td>\n",
       "      <td>0.401203</td>\n",
       "    </tr>\n",
       "    <tr>\n",
       "      <th>1</th>\n",
       "      <td>100</td>\n",
       "      <td>1.0</td>\n",
       "      <td>4</td>\n",
       "      <td>101.2</td>\n",
       "      <td>1.0</td>\n",
       "      <td>394.071146</td>\n",
       "    </tr>\n",
       "    <tr>\n",
       "      <th>2</th>\n",
       "      <td>100</td>\n",
       "      <td>1.5</td>\n",
       "      <td>5</td>\n",
       "      <td>102.4</td>\n",
       "      <td>0.5</td>\n",
       "      <td>NaN</td>\n",
       "    </tr>\n",
       "  </tbody>\n",
       "</table>\n",
       "</div>"
      ],
      "text/plain": [
       "   Principal  Maturity  Coupon  Price  Coupon Frequency  Zero Rates\n",
       "0        100       0.5       0   99.8               0.5    0.401203\n",
       "1        100       1.0       4  101.2               1.0  394.071146\n",
       "2        100       1.5       5  102.4               0.5         NaN"
      ]
     },
     "execution_count": 75,
     "metadata": {},
     "output_type": "execute_result"
    }
   ],
   "source": [
    "\n",
    "# Define the DataFrame according to the given values\n",
    "spot_rate_df = pd.DataFrame([[100, 0.5, 0, 99.8, 0.5], [100, 1, 4, 101.2, 1], [100, 1.5, 5, 102.4, 0.5]],\n",
    "                            columns=[\"Principal\", \"Maturity\", \"Coupon\", \"Price\", \"Coupon Frequency\"])\n",
    "\n",
    "def bootstrap_method(df: pd.DataFrame) -> pd.DataFrame:\n",
    "    zero_rates = []\n",
    "\n",
    "    for i, row in df.iterrows():\n",
    "        principal, maturity, coupon, price, freq = row\n",
    "        freq = 2 if freq == 0.5 else 1  # Convert frequency to either 1 (annual) or 2 (semi-annual)\n",
    "        \n",
    "        # Calculate total periods and coupon payment per period\n",
    "        total_periods = int(maturity * freq)\n",
    "        coupon_payment = (coupon / freq) * principal\n",
    "\n",
    "        # Generate cash flows for the bond\n",
    "        cash_flows = np.full(total_periods, coupon_payment)\n",
    "        cash_flows[-1] += principal  # Add principal to the last payment\n",
    "\n",
    "        # Initialize a variable to store the present value of cash flows\n",
    "        pv = 0\n",
    "\n",
    "        # Discount earlier cash flows using already calculated zero rates\n",
    "        for j in range(1, total_periods):\n",
    "            for k, earlier_maturity_val in enumerate(df['Maturity'].iloc[:i]):\n",
    "                if j / freq <= earlier_maturity_val:\n",
    "                    earlier_rate = zero_rates[k] / 100\n",
    "                    pv += cash_flows[j-1] / ((1 + earlier_rate / freq) ** j)\n",
    "\n",
    "        # Calculate the zero rate for the bond\n",
    "        remaining_cash_flow = cash_flows[-1]\n",
    "        remaining_time = total_periods / freq\n",
    "        zero_rate = (npf.irr(-np.append([-price + pv], [remaining_cash_flow])) + 1) ** freq - 1\n",
    "        zero_rates.append(zero_rate * 100)  # Convert to percentage\n",
    "\n",
    "    df['Zero Rates'] = zero_rates\n",
    "    return df\n",
    "\n",
    "\n",
    "# Test the function with the given table values\n",
    "bootstrap_method(df=spot_rate_df)\n",
    "\n"
   ]
  },
  {
   "cell_type": "markdown",
   "metadata": {},
   "source": [
    "It is often that in real world investors encounter friction costs such as fees, commissions and other types of expenses. Currently, NPV is used to measure ther value of an investment opportunity:\n",
    "\n",
    "$$NPV = C_{0} + PV.$$\n",
    "\n",
    "Your task is to design a tool for evaluating net value of a bond, which takes into consideration accrued interest, commission fees on entrance and exit (assume there is commission for settling the return of the principal), and administrative fees, which are monthly fees associated with the exchange that keeps track of asset ownership."
   ]
  },
  {
   "cell_type": "markdown",
   "metadata": {},
   "source": [
    "6 b.) Define a python function for calculating the net value of a bond subject to accrued interest, entry and exit fees and administrative fees (assume the administrative fees are paid out at the same frequency as the coupons). The accrued interest MUST be computed from the coupon value. **\\[3 marks\\]**"
   ]
  },
  {
   "cell_type": "code",
   "execution_count": 72,
   "metadata": {},
   "outputs": [],
   "source": [
    "def improved_npv(principal: float, coupon: float, price: float, interest_rate: float, \n",
    "                 n_periods: int, administrative_fee: float, entry_fee: float,\n",
    "                 exit_fee: float, days_from_last_coupon: int, \n",
    "                 coupon_frequency_per_year: int) -> float:\n",
    "    \n",
    "    # Calculate the coupon payment per period\n",
    "    coupon_payment = principal * (coupon / coupon_frequency_per_year)\n",
    "\n",
    "    # Calculate accrued interest\n",
    "    days_per_period = 365 / coupon_frequency_per_year\n",
    "    accrued_interest = coupon_payment * (days_from_last_coupon / days_per_period)\n",
    "\n",
    "    # Adjust initial price for entry fee and accrued interest\n",
    "    adjusted_price = price + entry_fee + accrued_interest\n",
    "\n",
    "    # Generate cash flows\n",
    "    cash_flows = [-adjusted_price]\n",
    "    for i in range(1, n_periods + 1):\n",
    "        net_cash_flow = coupon_payment - administrative_fee\n",
    "        if i == n_periods:\n",
    "            net_cash_flow += principal - exit_fee  # Include principal repayment and exit fee at maturity\n",
    "        cash_flows.append(net_cash_flow)\n",
    "\n",
    "    # Calculate NPV\n",
    "    npv = npf.npv(interest_rate / coupon_frequency_per_year, cash_flows)\n",
    "\n",
    "    return npv"
   ]
  },
  {
   "cell_type": "markdown",
   "metadata": {},
   "source": [
    "6 c.) Using the values from Exhibit 7 compute the net value of the investment. Is this a good investment considering all the expenses? **\\[1 mark\\]**\n",
    "\n",
    "### Exhibit 7: Information for an Investment\n",
    "| Parameter | Value |\n",
    "| --- | --- |\n",
    "| Principal | $100 |\n",
    "| Coupon | $4 (Yearly) |\n",
    "| Price | $101.5 |\n",
    "| Interest Rate | 2% |\n",
    "| Maturity | 3 years |\n",
    "| Administrative Fee | $1 (Yearly) |\n",
    "| Entry Fee | $5 |\n",
    "| Exit Fee | $5 |\n",
    "| Days from Last Coupon | 200 |"
   ]
  },
  {
   "cell_type": "code",
   "execution_count": 74,
   "metadata": {},
   "outputs": [
    {
     "name": "stdout",
     "output_type": "stream",
     "text": [
      "Net Present Value of the Investment: 914.51\n",
      "This is a good investment considering all the expenses.\n"
     ]
    }
   ],
   "source": [
    "# Solution\n",
    "\n",
    "# Parameters from Exhibit 7\n",
    "principal = 100\n",
    "coupon = 4  # Yearly\n",
    "price = 101.5\n",
    "interest_rate = 0.02  \n",
    "n_periods = 3  # 3 years\n",
    "administrative_fee = 1 #Yearly\n",
    "entry_fee = 5\n",
    "exit_fee = 5\n",
    "days_from_last_coupon = 200\n",
    "coupon_frequency_per_year = 1  \n",
    "\n",
    "# Compute the NPV\n",
    "npv = improved_npv(principal, coupon, price, interest_rate, n_periods, administrative_fee, \n",
    "                   entry_fee, exit_fee, days_from_last_coupon, coupon_frequency_per_year)\n",
    "\n",
    "print(f\"Net Present Value of the Investment: {npv:.2f}\")\n",
    "\n",
    "# Determine if it's a good investment\n",
    "if npv > 0:\n",
    "    print(\"This is a good investment considering all the expenses.\")\n",
    "else:\n",
    "    print(\"This is not a good investment considering all the expenses.\")\n"
   ]
  }
 ],
 "metadata": {
  "kernelspec": {
   "display_name": "Python 3.11.5 ('digital_finance_env')",
   "language": "python",
   "name": "python3"
  },
  "language_info": {
   "codemirror_mode": {
    "name": "ipython",
    "version": 3
   },
   "file_extension": ".py",
   "mimetype": "text/x-python",
   "name": "python",
   "nbconvert_exporter": "python",
   "pygments_lexer": "ipython3",
   "version": "3.11.5"
  },
  "vscode": {
   "interpreter": {
    "hash": "b9c317304b6a399a27e7bdb716043e39ef00edcc4dea3ca405cd0cdda4cd82b8"
   }
  }
 },
 "nbformat": 4,
 "nbformat_minor": 4
}
