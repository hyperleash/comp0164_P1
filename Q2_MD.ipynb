{
 "cells": [
  {
   "cell_type": "markdown",
   "metadata": {},
   "source": [
    "# QUESTION 2 (15 marks)\n",
    "\n",
    "One of the businesses owned by Accretion, Nautilus is a machine tool manufacturer and system\n",
    "integrator, specialising in precision hydraulics for large-scale industrial applications.\n",
    "\n",
    "Nautilus currently has several ground-breaking patents, on the stabilisation of structural columns for\n",
    "large-scale industrial developments in difficult soil conditions. This is planned to revolutionise the\n",
    "industry and be a massive boom for the future of Nautilus. The bond market has not reacted to this\n",
    "reveal of information for a whole year. With a new windfall from a successful year, Nautilus plans to\n",
    "repurchase some bonds it has already issued onto the market, thus you’re tasked to evaluate these\n",
    "issued bonds.\n",
    "\n",
    "#### Exhibit 3: Current Par Yield and Spot Rates\n",
    "\n",
    "\n",
    "| **Maturity** | **Par Rate** | **Spot Rate(Annual Coupon)**|\n",
    "| --- | --- | --- |\n",
    "|1 year |2.50% |2.50%|\n",
    "|2 years |2.99% |3.00%|\n",
    "|3 years |3.48% |3.50%|\n",
    "|4 years |3.95% |4.00%|\n",
    "|5 years |4.37% |?|\n",
    "\n",
    "#### Exhibit 4: Information for Selected Bonds\n",
    "\n",
    "| **Bond Name** | **Maturity** | **Coupon Type**| **Type of Bond** |\n",
    "| --- | --- | --- | --- |\n",
    "|Bond A (Face value $1,000) |3 years |6.40% annual |Option-free|\n",
    "|Bond B |3 years |4.30% annual | Callable at par on start of year 1 and year 2|\n",
    "|Bond C| 3 years |4.30% annual |Puttable at par on start of year 1 and year 2|\n",
    "\n",
    "#### Exhibit 5: Binomial Interest Rate Tree, based on an estimated interest rate volatility of 10%, where ‘u’ represents an up move and ‘d’ represents a down move.\n",
    "\n",
    "| **Year 0** | **Year 1** | **Year 2**|\n",
    "| --- | --- | --- |\n",
    "|2.2500% (r) |3.5930% (ru node) |4.6470% (ruu node)|\n",
    "| |2.9417% (rd node)| 3.8046% (rud node)|\n",
    "| | |3.1150% (rdd node)|\n",
    "\n",
    "<div class=\"alert alert-warning\">\n",
    "\n",
    "a. Based on Exhibit 3, find the five-year spot rate. [2 marks] \n",
    "\n",
    "b. Assuming the law of one price, use Exhibit 3 to calculate the forward rate of a one-year loan starting\n",
    "in three years. [1 mark]\n",
    "\n",
    "c. Given spot rates for one-, two-, and three-year zero bonds, how many forward rates can be\n",
    "calculated? Please list the forward rates that can be calculated and briefly explain your answer. [3\n",
    "marks]\n",
    "\n",
    "d. Find the yield to maturity for Bond A. You can use the IRR function from NumPy Financial. [3 marks]\n",
    "\n",
    "e. Based on Exhibit 5, assume an equal probability of interest rate going up and down at each node.\n",
    "Calculate the value of Bond B and Bond C with the binomial tree model. [3 marks]\n",
    "\n",
    "f. All else being equal, explain the effect of a fall in interest rates on Bond B and Bond C. [2 marks]\n",
    "\n",
    "g. All else being equal, which bond is most likely to increase in value if interest rate volatility is 15%\n",
    "rather than 10%? Briefly explain your answer. (Hint: consider the value of options) [1 mark]\n",
    "</div>"
   ]
  },
  {
   "cell_type": "markdown",
   "metadata": {},
   "source": [
    "#### Imports"
   ]
  },
  {
   "cell_type": "code",
   "execution_count": 1,
   "metadata": {},
   "outputs": [],
   "source": [
    "import numpy as np\n",
    "import pandas as pd\n",
    "import math\n",
    "import numpy_financial as npf\n",
    "import matplotlib.pyplot as plt\n",
    "import plotly.graph_objects as go\n",
    "import seaborn as sns\n",
    "import plotly.express as px\n",
    "from scipy import stats"
   ]
  },
  {
   "cell_type": "markdown",
   "metadata": {},
   "source": [
    "#### Question 2a"
   ]
  },
  {
   "cell_type": "code",
   "execution_count": 2,
   "metadata": {},
   "outputs": [
    {
     "name": "stdout",
     "output_type": "stream",
     "text": [
      "4.3999999999999995%\n"
     ]
    }
   ],
   "source": [
    "\n",
    "#Bond price (Assuming trading at par, since it's not stated otherwise)\n",
    "B = 100\n",
    "#coupon\n",
    "c = B * 0.0437\n",
    "\n",
    "#par value\n",
    "P = 100\n",
    "\n",
    "n = 5\n",
    "\n",
    "#spot rates\n",
    "y1_spot_rate = 0.025\n",
    "y2_spot_rate = 0.03\n",
    "y3_spot_rate = 0.035\n",
    "y4_spot_rate = 0.04\n",
    "\n",
    "y5_spot_rate = np.round(-np.log((B - c * (np.exp(-1 * y1_spot_rate) + np.exp(-2 * y2_spot_rate)  + np.exp(-3 * y3_spot_rate) + np.exp(-4 * y4_spot_rate)))/(P + c))/n, decimals=3)\n",
    "print(str(y5_spot_rate * 100) + \"%\")\n",
    "\n"
   ]
  },
  {
   "cell_type": "markdown",
   "metadata": {},
   "source": [
    "#### Question 2b"
   ]
  },
  {
   "cell_type": "markdown",
   "metadata": {},
   "source": [
    "Law of One Price states that identical good should have the same price. Using this, we can estimate the interest rate of the loan, assuming the bonds in the Exhibit A are as risky as the loan. Now, applying the formula below, we can estimate the interest rate from spot rates of bonds with different maturity. The formula is simplified, as we are only looking at 1 year loan."
   ]
  },
  {
   "cell_type": "markdown",
   "metadata": {},
   "source": [
    "\n",
    "\n",
    "$$F = \\frac{(1 + S_{4})^{4}}{(1 + S_{3})^{3}} - 1$$\n",
    "\n",
    "Where:\n",
    "- $F$ is the forward rate from time t = 3 to t = 4.\n",
    "- $S_{3}$ is the spot rate for maturity 3.\n",
    "- $S_{4}$ is the spot rate for maturity 4.\n"
   ]
  },
  {
   "cell_type": "code",
   "execution_count": 3,
   "metadata": {},
   "outputs": [
    {
     "name": "stdout",
     "output_type": "stream",
     "text": [
      "5.5%\n"
     ]
    }
   ],
   "source": [
    "S_3 = y3_spot_rate\n",
    "S_4 = y4_spot_rate\n",
    "\n",
    "def forward_rate(S_T1, S_T2, T1, T2):\n",
    "    return ((1 + S_T2)**T2 / (1 + S_T1)**T1)**(1 / (T2 - T1)) - 1\n",
    "\n",
    "F = forward_rate(S_3, S_4, 3, 4)\n",
    "\n",
    "print(str(np.round(F, decimals=3) * 100) + \"%\")"
   ]
  },
  {
   "cell_type": "markdown",
   "metadata": {},
   "source": [
    "#### Question 2c"
   ]
  },
  {
   "cell_type": "markdown",
   "metadata": {},
   "source": [
    "It is possible to calculate 3 different forward rates:\n",
    "\n",
    "The 1-year forward rate for a loan 1 year from now (between the 1st year and the 2nd year).\n",
    "\n",
    "The 1-year forward rate for a loan 2 years from now (between the 2nd year and the 3rd year).\n",
    "\n",
    "The 2-year forward rate for a loan 1 year from now (between the 1st year and the 3rd year).\n"
   ]
  },
  {
   "cell_type": "code",
   "execution_count": 4,
   "metadata": {},
   "outputs": [
    {
     "name": "stdout",
     "output_type": "stream",
     "text": [
      "F1_2: 3.5000000000000004%\n",
      "F2_3: 4.5%\n",
      "F1_3: 4.0%\n"
     ]
    }
   ],
   "source": [
    "S1 = y1_spot_rate\n",
    "S2 = y2_spot_rate\n",
    "S3 = y3_spot_rate\n",
    "\n",
    "F1 = forward_rate(S1, S2, 1, 2)\n",
    "F2 = forward_rate(S2, S3, 2, 3)\n",
    "F3 = forward_rate(S1, S3, 1, 3)\n",
    "\n",
    "print(\"F1_2: \" + str(np.round(F1, decimals=3) * 100) + \"%\")\n",
    "print(\"F2_3: \" + str(np.round(F2, decimals=3) * 100) + \"%\")\n",
    "print(\"F1_3: \" + str(np.round(F3, decimals=3) * 100) + \"%\")\n"
   ]
  },
  {
   "cell_type": "markdown",
   "metadata": {},
   "source": [
    "#### Question 2d"
   ]
  },
  {
   "cell_type": "code",
   "execution_count": 5,
   "metadata": {},
   "outputs": [
    {
     "name": "stdout",
     "output_type": "stream",
     "text": [
      "YTM: 6.0%\n"
     ]
    }
   ],
   "source": [
    "face_value = 1000\n",
    "present_value = 1000\n",
    "n_periods = 4\n",
    "coupon_payment = 0.064*face_value\n",
    "\n",
    "cashflow = [-present_value, coupon_payment, coupon_payment, coupon_payment, face_value+coupon_payment]\n",
    "ytm = np.round(npf.irr(cashflow), decimals=2)\n",
    "print(\"YTM: \"+str(ytm*100)+\"%\")"
   ]
  },
  {
   "cell_type": "markdown",
   "metadata": {},
   "source": [
    "#### Question 2e"
   ]
  },
  {
   "cell_type": "code",
   "execution_count": 6,
   "metadata": {},
   "outputs": [
    {
     "name": "stdout",
     "output_type": "stream",
     "text": [
      "Price of callable Bond B: $566.0\n",
      "Price of puttable Bond C: $869.0\n",
      "Price of Bond C or Bond B (no option): $559.91\n"
     ]
    }
   ],
   "source": [
    "init_discount = (1.225)**(-1)\n",
    "\n",
    "u_discount = (1.225 * 1.3593)**(-1)\n",
    "d_discount = (1.225 * 1.29417)**(-1)\n",
    "\n",
    "uu_discount = (1.225 * 1.3593 * 1.467)**(-1)\n",
    "ud_discount = (1.225 * 1.3593 * 1.38046)**(-1)\n",
    "du_discount = (1.225 * 1.3593 * 1.38046)**(-1)\n",
    "dd_discount = (1.225 * 1.29417 * 1.3115)**(-1)\n",
    "\n",
    "p_u = 0.5\n",
    "p_d = 0.5\n",
    "\n",
    "#Discount callable bond B\n",
    "time2_uu = min((face_value + coupon_payment)/1.467, face_value)\n",
    "time2_dd = min((face_value + coupon_payment)/1.3115, face_value)\n",
    "time2_ud = min((face_value + coupon_payment)/1.38046, face_value)\n",
    "\n",
    "time1_u = min((p_u * time2_ud + p_d * time2_uu + coupon_payment)/1.3593, face_value)\n",
    "time1_d = min((p_u * time2_ud + p_d * time2_dd + coupon_payment)/1.29417, face_value)\n",
    "\n",
    "time0 = np.round((p_u * time1_u + p_d * time1_d + coupon_payment)/1.225)\n",
    "\n",
    "print(\"Price of callable Bond B: ${}\".format(time0))\n",
    "\n",
    "#Discount callable bond C\n",
    "time2_uu = max((face_value + coupon_payment)/1.467, face_value)\n",
    "time2_dd = max((face_value + coupon_payment)/1.3115, face_value)\n",
    "time2_ud = max((face_value + coupon_payment)/1.38046, face_value)\n",
    "\n",
    "time1_u = max((p_u * time2_ud + p_d * time2_uu + coupon_payment)/1.3593, face_value)\n",
    "time1_d = max((p_u * time2_ud + p_d * time2_dd + coupon_payment)/1.29417, face_value)\n",
    "\n",
    "time0 = np.round((p_u * time1_u + p_d * time1_d + coupon_payment)/1.225)\n",
    "\n",
    "print(\"Price of puttable Bond C: ${}\".format(time0))\n",
    "    \n",
    "##Get value without option\n",
    "discounted_cashflow_year3 = np.round((face_value + coupon_payment)*(p_u*p_u*uu_discount + p_u*p_d*ud_discount + p_d*p_u*du_discount + p_d*p_d*dd_discount), decimals=2)\n",
    "discounted_cashflow_year2 = np.round((coupon_payment)*(p_u*u_discount + p_d*d_discount), decimals=2)\n",
    "discounted_cashflow_year1 = np.round((coupon_payment)*(init_discount), decimals=2)\n",
    "\n",
    "bond_price = discounted_cashflow_year3 + discounted_cashflow_year2 + discounted_cashflow_year1\n",
    "print(\"Price of Bond C or Bond B (no option): ${}\".format(bond_price))"
   ]
  },
  {
   "cell_type": "markdown",
   "metadata": {},
   "source": [
    "#### Question 2f\n",
    "\n",
    "Generally, as interest rates fall, the value of bond increases, due to the relationship between interest rates and bond value.\n",
    "This clearly follows from the calculations used for valuing bonds. \n",
    "\n",
    "However, because Bond B has an embedded call option, this limits the the value of a bond.\n",
    "\n",
    "In case of a puttable Bond C, because as interest rates fall the value of the put decreases this also decreases the amount a puttable bond will grow compared to a straight bond."
   ]
  },
  {
   "cell_type": "markdown",
   "metadata": {},
   "source": [
    "#### Question 2g"
   ]
  },
  {
   "cell_type": "markdown",
   "metadata": {},
   "source": [
    "Callable bond B - it is more likely to **decrease** in value with higher volatility. A callable option limits the potential appreciation on the bond value, that is possible if interest rates fall sharply. The issuer can just repurchase the bond, in this case at face value. However, it doesn't limit the potential downside for the bondholder. Therefore, in the context of increased volatitlity the value of the bond is likely to decrease, as the potential downside increases, and appreciation is capped.\n",
    "\n",
    "\n",
    "In contrast, a puttable bond like Bond C is likely to **increase** in value. The put option protects the bondholder from potential increased downside in the context of sharp fall in price (sharp rise in interest rates), but does not limit the potential appreciation in case interest rates fall. "
   ]
  },
  {
   "cell_type": "markdown",
   "metadata": {},
   "source": []
  }
 ],
 "metadata": {
  "kernelspec": {
   "display_name": "Python 3",
   "language": "python",
   "name": "python3"
  },
  "language_info": {
   "codemirror_mode": {
    "name": "ipython",
    "version": 3
   },
   "file_extension": ".py",
   "mimetype": "text/x-python",
   "name": "python",
   "nbconvert_exporter": "python",
   "pygments_lexer": "ipython3",
   "version": "3.11.1"
  }
 },
 "nbformat": 4,
 "nbformat_minor": 2
}
